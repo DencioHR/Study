{
 "cells": [
  {
   "cell_type": "code",
   "execution_count": 1,
   "id": "1a14bcf3",
   "metadata": {},
   "outputs": [],
   "source": [
    "from selenium import webdriver\n",
    "from bs4 import BeautifulSoup\n",
    "import pandas as pd"
   ]
  },
  {
   "cell_type": "code",
   "execution_count": 2,
   "id": "9cdb481a",
   "metadata": {},
   "outputs": [],
   "source": [
    "import time"
   ]
  },
  {
   "cell_type": "code",
   "execution_count": 3,
   "id": "3b392e1b",
   "metadata": {},
   "outputs": [],
   "source": [
    "from tqdm import tqdm_notebook"
   ]
  },
  {
   "cell_type": "code",
   "execution_count": 4,
   "id": "f39367c5",
   "metadata": {},
   "outputs": [],
   "source": [
    "# driver=webdriver.Chrome('chromedriver.exe')\n",
    "# url='https://www.chargekorea.com/charge/list.php?pagenum={}&addcode=11500&searchkeyword=&orderby=count&hashtag=&usenow=&parkingfee=&chargespeed='\n",
    "# driver.get(url)"
   ]
  },
  {
   "cell_type": "markdown",
   "id": "af150e3d",
   "metadata": {},
   "source": [
    "# 한페이지"
   ]
  },
  {
   "cell_type": "code",
   "execution_count": 5,
   "id": "fb6d0225",
   "metadata": {
    "scrolled": true
   },
   "outputs": [
    {
     "name": "stderr",
     "output_type": "stream",
     "text": [
      "C:\\Users\\FX506HM\\AppData\\Local\\Temp/ipykernel_18080/1700411837.py:1: DeprecationWarning: executable_path has been deprecated, please pass in a Service object\n",
      "  driver=webdriver.Chrome('chromedriver.exe')\n"
     ]
    }
   ],
   "source": [
    "driver=webdriver.Chrome('chromedriver.exe')\n",
    "url='https://www.chargekorea.com/charge/list.php?pagenum=2&addcode=11500&searchkeyword=&orderby=count&hashtag=&usenow=&parkingfee=&chargespeed='\n",
    "driver.get(url)\n",
    "time.sleep(2)\n",
    "\n",
    "html=driver.page_source\n",
    "soup=BeautifulSoup(html, 'html.parser')"
   ]
  },
  {
   "cell_type": "code",
   "execution_count": 6,
   "id": "3612885c",
   "metadata": {},
   "outputs": [
    {
     "data": {
      "text/plain": [
       "<html lang=\"ko\"><head>\n",
       "<!-- Global site tag (gtag.js) - Google Analytics -->\n",
       "<script src=\"https://pagead2.googlesyndication.com/pagead/managed/js/adsense/m202203090101/reactive_library_fy2019.js\"></script><script src=\"https://partner.googleadservices.com/gampad/cookie.js?domain=www.chargekorea.com&amp;callback=_gfp_s_&amp;client=ca-pub-8347495644930535\"></script><script id=\"google_shimpl\" src=\"https://pagead2.googlesyndication.com/pagead/managed/js/adsense/m202203090101/show_ads_impl_fy2019.js\"></script><script async=\"\" src=\"https://www.google-analytics.com/analytics.js\" type=\"text/javascript\"></script><script async=\"\" src=\"https://www.googletagmanager.com/gtag/js?id=UA-179953834-1\"></script>\n",
       "<script>\n",
       "  window.dataLayer = window.dataLayer || [];\n",
       "  function gtag(){dataLayer.push(arguments);}\n",
       "  gtag('js', new Date());\n",
       "\n",
       "  gtag('config', 'UA-179953834-1');\n",
       "</script>\n",
       "<title>\n",
       "서울특별시 강서구 충전소 목록 - 충전기많은순 2 페이지 - 전기차충전소찾기</title>\n",
       "<meta content=\"width=device-width\" name=\"viewport\"/>\n",
       "<link href=\"https://www.chargekorea.com/charge/list.php?pagenum=2&amp;addcode=11500&amp;searchkeyword=&amp;orderby=count&amp;hashtag=&amp;usenow=&amp;parkingfee=&amp;chargespeed=\" rel=\"canonical\"/>\n",
       "<link href=\"https://www.chargekorea.com/charge/m/list.php?pagenum=2&amp;addcode=11500&amp;searchkeyword=&amp;orderby=count&amp;hashtag=&amp;usenow=&amp;parkingfee=&amp;chargespeed=\" media=\"only screen and (max-width: 640px)\" rel=\"alternate\"/>\n",
       "<meta content=\"IE=edge\" http-equiv=\"X-UA-Compatible\"/>\n",
       "<meta content=\"text/html; charset=utf-8\" http-equiv=\"content-type\"/>\n",
       "<meta content=\"서울특별시 강서구 충전소 목록 - 충전기많은순 2 페이지 - 전기차충전소찾기\" property=\"og:title\"/>\n",
       "<meta content=\"https://www.chargekorea.com/charge/list.php?pagenum=2&amp;addcode=11500&amp;searchkeyword=&amp;orderby=count&amp;hashtag=&amp;usenow=&amp;parkingfee=&amp;chargespeed=\" property=\"og:url\"/>\n",
       "<meta content=\"서울특별시 강서구 충전소 주소 전화번호 영업시간 충전기타입 충전기상태 후기 정보 - 충전기많은순 2 페이지 - 전기차충전소찾기\" property=\"og:description\"/>\n",
       "<meta content=\"https://www.chargekorea.com/charge/share_logo.png\" property=\"og:image\"/>\n",
       "<link href=\"/charge/favicon.ico\" rel=\"shortcut icon\"/>\n",
       "<meta content=\"서울특별시 강서구 충전소 주소 전화번호 영업시간 충전기타입 충전기상태 후기 정보 - 충전기많은순 2 페이지 - 전기차충전소찾기\" name=\"description\"/>\n",
       "<script type=\"application/ld+json\">\n",
       "{\n",
       "\t\"@context\": \"http://schema.org\",\n",
       "\t\"@type\": \"Person\",\n",
       "\t\"name\": \"전기차충전소찾기\",\n",
       "\t\"url\": \"https://www.chargekorea.com\",\n",
       "\t\"sameAs\": \n",
       "\t[\n",
       "\t\t\"https://play.google.com/store/apps/details?id=com.site.chargeweb\"\n",
       "\t]\n",
       "}\n",
       "</script>\n",
       "<link crossorigin=\"\" href=\"https://fonts.gstatic.com\" rel=\"preconnect\"/>\n",
       "<link crossorigin=\"\" href=\"https://fonts.googleapis.com\" rel=\"preconnect\"/>\n",
       "<link as=\"style\" href=\"https://fonts.googleapis.com/css2?family=Nanum+Gothic&amp;display=swap\" onload=\"this.rel='stylesheet'\" rel=\"stylesheet\"/>\n",
       "<link href=\"/common/style.css?ver=2\" rel=\"stylesheet\" type=\"text/css\"/>\n",
       "<link href=\"floatdiv.css?ver=3\" rel=\"stylesheet\" type=\"text/css\"/>\n",
       "<link href=\"circle.css?ver=1\" rel=\"stylesheet\" type=\"text/css\"/>\n",
       "<!--[if lt IE 9]>\n",
       "<script src=\"/common/js/html5shiv.js\"></script>\n",
       "<![endif]-->\n",
       "<script async=\"\" crossorigin=\"anonymous\" data-checked-head=\"true\" src=\"https://pagead2.googlesyndication.com/pagead/js/adsbygoogle.js?client=ca-pub-8347495644930535\"></script>\n",
       "<meta content=\"AxujKG9INjsZ8/gUq8+dTruNvk7RjZQ1oFhhgQbcTJKDnZfbzSTE81wvC2Hzaf3TW4avA76LTZEMdiedF1vIbA4AAABueyJvcmlnaW4iOiJodHRwczovL2ltYXNkay5nb29nbGVhcGlzLmNvbTo0NDMiLCJmZWF0dXJlIjoiVHJ1c3RUb2tlbnMiLCJleHBpcnkiOjE2NTI3NzQ0MDAsImlzVGhpcmRQYXJ0eSI6dHJ1ZX0=\" http-equiv=\"origin-trial\"/><meta content=\"Azuce85ORtSnWe1MZDTv68qpaW3iHyfL9YbLRy0cwcCZwVnePnOmkUJlG8HGikmOwhZU22dElCcfrfX2HhrBPAkAAAB7eyJvcmlnaW4iOiJodHRwczovL2RvdWJsZWNsaWNrLm5ldDo0NDMiLCJmZWF0dXJlIjoiVHJ1c3RUb2tlbnMiLCJleHBpcnkiOjE2NTI3NzQ0MDAsImlzU3ViZG9tYWluIjp0cnVlLCJpc1RoaXJkUGFydHkiOnRydWV9\" http-equiv=\"origin-trial\"/><meta content=\"A16nvcdeoOAqrJcmjLRpl1I6f3McDD8EfofAYTt/P/H4/AWwB99nxiPp6kA0fXoiZav908Z8etuL16laFPUdfQsAAACBeyJvcmlnaW4iOiJodHRwczovL2dvb2dsZXRhZ3NlcnZpY2VzLmNvbTo0NDMiLCJmZWF0dXJlIjoiVHJ1c3RUb2tlbnMiLCJleHBpcnkiOjE2NTI3NzQ0MDAsImlzU3ViZG9tYWluIjp0cnVlLCJpc1RoaXJkUGFydHkiOnRydWV9\" http-equiv=\"origin-trial\"/><meta content=\"AxBHdr0J44vFBQtZUqX9sjiqf5yWZ/OcHRcRMN3H9TH+t90V/j3ENW6C8+igBZFXMJ7G3Pr8Dd13632aLng42wgAAACBeyJvcmlnaW4iOiJodHRwczovL2dvb2dsZXN5bmRpY2F0aW9uLmNvbTo0NDMiLCJmZWF0dXJlIjoiVHJ1c3RUb2tlbnMiLCJleHBpcnkiOjE2NTI3NzQ0MDAsImlzU3ViZG9tYWluIjp0cnVlLCJpc1RoaXJkUGFydHkiOnRydWV9\" http-equiv=\"origin-trial\"/><meta content=\"A88BWHFjcawUfKU3lIejLoryXoyjooBXLgWmGh+hNcqMK44cugvsI5YZbNarYvi3roc1fYbHA1AVbhAtuHZflgEAAAB2eyJvcmlnaW4iOiJodHRwczovL2dvb2dsZS5jb206NDQzIiwiZmVhdHVyZSI6IlRydXN0VG9rZW5zIiwiZXhwaXJ5IjoxNjUyNzc0NDAwLCJpc1N1YmRvbWFpbiI6dHJ1ZSwiaXNUaGlyZFBhcnR5Ijp0cnVlfQ==\" http-equiv=\"origin-trial\"/><meta content=\"A8FHS1NmdCwGqD9DwOicnHHY+y27kdWfxKa0YHSGDfv0CSpDKRHTQdQmZVPDUdaFWUsxdgVxlwAd6o+dhJykPA0AAACWeyJvcmlnaW4iOiJodHRwczovL2RvdWJsZWNsaWNrLm5ldDo0NDMiLCJmZWF0dXJlIjoiQ29udmVyc2lvbk1lYXN1cmVtZW50IiwiZXhwaXJ5IjoxNjQzMTU1MTk5LCJpc1N1YmRvbWFpbiI6dHJ1ZSwiaXNUaGlyZFBhcnR5Ijp0cnVlLCJ1c2FnZSI6InN1YnNldCJ9\" http-equiv=\"origin-trial\"/><meta content=\"A8zdXi6dr1hwXEUjQrYiyYQGlU3557y5QWDnN0Lwgj9ePt66XMEvNkVWOEOWPd7TP9sBQ25X0Q15Lr1Nn4oGFQkAAACceyJvcmlnaW4iOiJodHRwczovL2dvb2dsZXN5bmRpY2F0aW9uLmNvbTo0NDMiLCJmZWF0dXJlIjoiQ29udmVyc2lvbk1lYXN1cmVtZW50IiwiZXhwaXJ5IjoxNjQzMTU1MTk5LCJpc1N1YmRvbWFpbiI6dHJ1ZSwiaXNUaGlyZFBhcnR5Ijp0cnVlLCJ1c2FnZSI6InN1YnNldCJ9\" http-equiv=\"origin-trial\"/><meta content=\"A4/Htern2udN9w3yJK9QgWQxQFruxOXsXL7cW60DyCl0EZFGCSme/J33Q/WzF7bBkVvhEWDlcBiUyZaim5CpFQwAAACceyJvcmlnaW4iOiJodHRwczovL2dvb2dsZXRhZ3NlcnZpY2VzLmNvbTo0NDMiLCJmZWF0dXJlIjoiQ29udmVyc2lvbk1lYXN1cmVtZW50IiwiZXhwaXJ5IjoxNjQzMTU1MTk5LCJpc1N1YmRvbWFpbiI6dHJ1ZSwiaXNUaGlyZFBhcnR5Ijp0cnVlLCJ1c2FnZSI6InN1YnNldCJ9\" http-equiv=\"origin-trial\"/><link as=\"script\" href=\"https://adservice.google.co.kr/adsid/integrator.js?domain=www.chargekorea.com\" rel=\"preload\"/><script src=\"https://adservice.google.co.kr/adsid/integrator.js?domain=www.chargekorea.com\" type=\"text/javascript\"></script><link as=\"script\" href=\"https://adservice.google.com/adsid/integrator.js?domain=www.chargekorea.com\" rel=\"preload\"/><script src=\"https://adservice.google.com/adsid/integrator.js?domain=www.chargekorea.com\" type=\"text/javascript\"></script><link as=\"script\" href=\"https://adservice.google.co.kr/adsid/integrator.js?domain=www.chargekorea.com\" rel=\"preload\"/><script src=\"https://adservice.google.co.kr/adsid/integrator.js?domain=www.chargekorea.com\" type=\"text/javascript\"></script><link as=\"script\" href=\"https://adservice.google.com/adsid/integrator.js?domain=www.chargekorea.com\" rel=\"preload\"/><script src=\"https://adservice.google.com/adsid/integrator.js?domain=www.chargekorea.com\" type=\"text/javascript\"></script></head>\n",
       "<body aria-hidden=\"false\" style=\"background-image:url(//daycarekorea.com/cdn/body_bg.png);background-repeat:repeat;\">\n",
       "<div id=\"floatdiv\" style=\"width:300px\">\n",
       "<!-- 전기차_PC_대형_수직 -->\n",
       "<ins class=\"adsbygoogle\" data-ad-client=\"ca-pub-8347495644930535\" data-ad-slot=\"7440605234\" data-ad-status=\"unfilled\" data-adsbygoogle-status=\"done\" style=\"display:inline-block;width:300px;height:600px\"><ins aria-label=\"Advertisement\" id=\"aswift_1_expand\" style=\"border: none; height: 600px; width: 300px; margin: 0px; padding: 0px; position: relative; visibility: visible; background-color: transparent; display: inline-table;\" tabindex=\"0\" title=\"Advertisement\"><ins id=\"aswift_1_anchor\" style=\"border: none; height: 600px; width: 300px; margin: 0px; padding: 0px; position: relative; visibility: visible; background-color: transparent; display: block;\"><iframe allowtransparency=\"true\" data-google-container-id=\"a!2\" data-google-query-id=\"CJSa_tG3xvYCFfHVTAIdCkYAKA\" data-load-complete=\"true\" frameborder=\"0\" height=\"600\" hspace=\"0\" id=\"aswift_1\" marginheight=\"0\" marginwidth=\"0\" name=\"aswift_1\" sandbox=\"allow-forms allow-popups allow-popups-to-escape-sandbox allow-same-origin allow-scripts allow-top-navigation-by-user-activation\" scrolling=\"no\" src=\"https://googleads.g.doubleclick.net/pagead/ads?client=ca-pub-8347495644930535&amp;output=html&amp;h=600&amp;slotname=7440605234&amp;adk=3637424016&amp;adf=3968596159&amp;pi=t.ma~as.7440605234&amp;w=300&amp;lmt=1647289512&amp;psa=0&amp;format=300x600&amp;url=https%3A%2F%2Fwww.chargekorea.com%2Fcharge%2Flist.php%3Fpagenum%3D2%26addcode%3D11500%26searchkeyword%3D%26orderby%3Dcount%26hashtag%3D%26usenow%3D%26parkingfee%3D%26chargespeed%3D&amp;flash=0&amp;wgl=1&amp;uach=WyJXaW5kb3dzIiwiMTAuMC4wIiwieDg2IiwiIiwiOTkuMC40ODQ0LjUxIixbXSxudWxsLG51bGwsIjY0IixbWyIgTm90IEE7QnJhbmQiLCI5OS4wLjAuMCJdLFsiQ2hyb21pdW0iLCI5OS4wLjQ4NDQuNTEiXSxbIkdvb2dsZSBDaHJvbWUiLCI5OS4wLjQ4NDQuNTEiXV1d&amp;dt=1647289512114&amp;bpp=1&amp;bdt=314&amp;idt=332&amp;shv=r20220308&amp;mjsv=m202203090101&amp;ptt=9&amp;saldr=aa&amp;abxe=1&amp;prev_fmts=0x0&amp;nras=1&amp;correlator=7907011945191&amp;frm=20&amp;pv=1&amp;ga_vid=518647378.1647289512&amp;ga_sid=1647289512&amp;ga_hid=2075256681&amp;ga_fc=1&amp;u_tz=540&amp;u_his=2&amp;u_h=1080&amp;u_w=1920&amp;u_ah=1040&amp;u_aw=1920&amp;u_cd=24&amp;u_sd=1&amp;dmc=8&amp;adx=1031&amp;ady=113&amp;biw=912&amp;bih=887&amp;scr_x=0&amp;scr_y=0&amp;eid=44759875%2C44759926%2C44759842%2C42531398%2C44750774%2C21065725%2C31064018&amp;oid=2&amp;pvsid=3554202090473420&amp;pem=375&amp;tmod=958116048&amp;uas=0&amp;nvt=1&amp;eae=0&amp;fc=1920&amp;brdim=10%2C10%2C10%2C10%2C1920%2C0%2C945%2C1020%2C929%2C887&amp;vis=1&amp;rsz=d%7C%7CfeE%7C&amp;abl=CF&amp;pfx=0&amp;fu=1024&amp;bc=31&amp;ifi=2&amp;uci=a!2&amp;fsb=1&amp;xpc=O2BeWqOPko&amp;p=https%3A//www.chargekorea.com&amp;dtd=337\" style=\"left:0;position:absolute;top:0;border:0;width:300px;height:600px\" vspace=\"0\" width=\"300\"></iframe></ins></ins></ins>\n",
       "<script>\n",
       "\t(adsbygoogle = window.adsbygoogle || []).push({});\n",
       "\t</script>\n",
       "</div>\n",
       "<div id=\"menu_wrap\" style=\"width:100%;background:white\">\n",
       "<div id=\"menu_main\" style=\"display:table;width:1130px;height:100%;margin:auto\">\n",
       "<div style=\"float:left;display:table;width:250px;height:101px;background:white;vertical-align:middle\">\n",
       "<div style=\"display:table-cell;width:100%;vertical-align:middle\">\n",
       "<a href=\"index.php\"><img alt=\"전기차충전소찾기\" src=\"charge_logo.png\" style=\"width:100%\" title=\"전기차충전소찾기\"/></a>\n",
       "</div>\n",
       "</div>\n",
       "<div style=\"display:table;float:left;width:575px;height:101px;padding-left:75px;background:white\">\n",
       "<div style=\"display:table-cell;width:100%;vertical-align:middle;\">\n",
       "<div>\n",
       "<form action=\"list.php\" method=\"get\" name=\"searchform\" style=\"display:inline\"><input autocomplete=\"off\" id=\"searchkeyword\" name=\"searchkeyword\" onkeyup=\"autokeyword(this.value);\" placeholder=\" 읍/면/동 또는 충전소명을 입력해주세요.\" style=\"width:531px;height:32px;border:2px solid gray\" type=\"text\"/>\n",
       "</form>\n",
       "<div style=\"position:absolute;z-index:9999\">\n",
       "<div id=\"autolayer\" style=\"display:none;position:relative;top:0px;left:0px;z-index:10000\">\n",
       "</div>\n",
       "</div>\n",
       "</div>\n",
       "<div style=\"margin-top:7px\">\n",
       "<div style=\"float:left;width:110px\">\n",
       "<select class=\"top_select\" id=\"add1\" name=\"add1\" onchange=\"showadd2(this.value);\" style=\"width:100%\"><option>광역시도 선택</option><option value=\"%EC%9A%B8%EC%82%B0%EA%B4%91%EC%97%AD%EC%8B%9C\">울산광역시</option><option value=\"%EC%84%B8%EC%A2%85%ED%8A%B9%EB%B3%84%EC%9E%90%EC%B9%98%EC%8B%9C\">세종특별자치시</option><option value=\"%EC%84%9C%EC%9A%B8%EC%8B%9C\">서울시</option><option value=\"%EA%B2%BD%EA%B8%B0%EB%8F%84\">경기도</option><option value=\"%EC%9D%B8%EC%B2%9C%EC%8B%9C\">인천시</option><option value=\"%EB%B6%80%EC%82%B0%EC%8B%9C\">부산시</option><option value=\"%EB%8C%80%EC%A0%84%EC%8B%9C\">대전시</option><option value=\"%EB%8C%80%EA%B5%AC%EC%8B%9C\">대구시</option><option value=\"%EC%9A%B8%EC%82%B0%EC%8B%9C\">울산시</option><option value=\"%EC%84%B8%EC%A2%85%EC%8B%9C\">세종시</option><option value=\"%EA%B4%91%EC%A3%BC%EC%8B%9C\">광주시</option><option value=\"%EA%B0%95%EC%9B%90%EB%8F%84\">강원도</option><option value=\"%EC%B6%A9%EC%B2%AD%EB%B6%81%EB%8F%84\">충청북도</option><option value=\"%EC%B6%A9%EC%B2%AD%EB%82%A8%EB%8F%84\">충청남도</option><option value=\"%EA%B2%BD%EC%83%81%EB%B6%81%EB%8F%84\">경상북도</option><option value=\"%EA%B2%BD%EC%83%81%EB%82%A8%EB%8F%84\">경상남도</option><option value=\"%EC%A0%84%EB%9D%BC%EB%B6%81%EB%8F%84\">전라북도</option><option value=\"%EC%A0%84%EB%9D%BC%EB%82%A8%EB%8F%84\">전라남도</option><option value=\"%EC%A0%9C%EC%A3%BC%EB%8F%84\">제주도</option>\n",
       "</select>\n",
       "</div>\n",
       "<div style=\"float:left;width:110px;margin-left:10px\">\n",
       "<div id=\"add2layer\">\n",
       "<select class=\"top_select\" id=\"add2\" name=\"add2\" onchange=\"showadd3(this.value);\" style=\"width:100%\">\n",
       "<option>시/군/구 선택</option>\n",
       "</select>\n",
       "</div>\n",
       "</div>\n",
       "<div style=\"float:left;width:100px;margin-left:10px\">\n",
       "<div id=\"add3layer\">\n",
       "<select class=\"top_select\" id=\"add3\" name=\"add3\" onchange=\"showadd4(this.value);\" style=\"width:100%\">\n",
       "<option>읍/면/동 선택</option>\n",
       "</select>\n",
       "</div>\n",
       "</div>\n",
       "<div style=\"float:left;width:189px;margin-left:10px\">\n",
       "<div id=\"add4layer\">\n",
       "<select class=\"top_select\" id=\"add4\" name=\"add4\" onchange=\"movetochargedetail(this.value);\" style=\"width:100%\">\n",
       "<option value=\"\">충전소 선택</option>\n",
       "</select>\n",
       "</div>\n",
       "</div>\n",
       "</div>\n",
       "</div>\n",
       "</div>\n",
       "</div>\n",
       "</div>\n",
       "<div id=\"body_wrap\" style=\"width:100%;background-image:url(//daycarekorea.com/cdn/body_bg.png);background-repeat:repeat;margin-top:12px\">\n",
       "<div id=\"body_main\" style=\"clear:both;width:1130px;height:100%;margin:auto\">\n",
       "<div style=\"clear:both;float:left;width:387px;height:280px;background:white\">\n",
       "<table class=\"datatable20\" style=\"width:100%;font-size:16px\">\n",
       "<tbody><tr>\n",
       "<td><a href=\"intro.php\"><b>사이트 소개</b></a>\n",
       "</td>\n",
       "<td>\n",
       "</td>\n",
       "</tr>\n",
       "<tr>\n",
       "<td>\n",
       "<a href=\"list.php?usenow=1\" style=\"color:#3366cc\"><b>현재 충전가능한 충전소 목록</b></a>\n",
       "</td>\n",
       "<td>\n",
       "</td>\n",
       "</tr>\n",
       "<tr>\n",
       "<td>\n",
       "<a href=\"list.php\"><b>전체 전기차충전소 목록</b></a>\n",
       "</td>\n",
       "<td>\n",
       "</td>\n",
       "</tr>\n",
       "</tbody></table>\n",
       "</div>\n",
       "<div style=\"float:left;width:336px;height:280px;background:white;margin-left:10px\">\n",
       "<!-- 전기차_PC_336 -->\n",
       "<ins class=\"adsbygoogle\" data-ad-client=\"ca-pub-8347495644930535\" data-ad-slot=\"9123893009\" data-ad-status=\"filled\" data-adsbygoogle-status=\"done\" style=\"display:inline-block;width:336px;height:280px\"><ins aria-label=\"Advertisement\" id=\"aswift_2_expand\" style=\"border: none; height: 280px; width: 336px; margin: 0px; padding: 0px; position: relative; visibility: visible; background-color: transparent; display: inline-table;\" tabindex=\"0\" title=\"Advertisement\"><ins id=\"aswift_2_anchor\" style=\"border: none; height: 280px; width: 336px; margin: 0px; padding: 0px; position: relative; visibility: visible; background-color: transparent; display: block;\"><iframe allowtransparency=\"true\" data-google-container-id=\"a!3\" data-google-query-id=\"CLOg_tG3xvYCFdEBKgodCG4KUA\" data-load-complete=\"true\" frameborder=\"0\" height=\"280\" hspace=\"0\" id=\"aswift_2\" marginheight=\"0\" marginwidth=\"0\" name=\"aswift_2\" sandbox=\"allow-forms allow-popups allow-popups-to-escape-sandbox allow-same-origin allow-scripts allow-top-navigation-by-user-activation\" scrolling=\"no\" src=\"https://googleads.g.doubleclick.net/pagead/ads?client=ca-pub-8347495644930535&amp;output=html&amp;h=280&amp;slotname=9123893009&amp;adk=4205740756&amp;adf=1927997961&amp;pi=t.ma~as.9123893009&amp;w=336&amp;lmt=1647289512&amp;psa=0&amp;format=336x280&amp;url=https%3A%2F%2Fwww.chargekorea.com%2Fcharge%2Flist.php%3Fpagenum%3D2%26addcode%3D11500%26searchkeyword%3D%26orderby%3Dcount%26hashtag%3D%26usenow%3D%26parkingfee%3D%26chargespeed%3D&amp;flash=0&amp;wgl=1&amp;uach=WyJXaW5kb3dzIiwiMTAuMC4wIiwieDg2IiwiIiwiOTkuMC40ODQ0LjUxIixbXSxudWxsLG51bGwsIjY0IixbWyIgTm90IEE7QnJhbmQiLCI5OS4wLjAuMCJdLFsiQ2hyb21pdW0iLCI5OS4wLjQ4NDQuNTEiXSxbIkdvb2dsZSBDaHJvbWUiLCI5OS4wLjQ4NDQuNTEiXV1d&amp;dt=1647289512115&amp;bpp=1&amp;bdt=316&amp;idt=339&amp;shv=r20220308&amp;mjsv=m202203090101&amp;ptt=9&amp;saldr=aa&amp;abxe=1&amp;prev_fmts=0x0%2C300x600&amp;nras=1&amp;correlator=7907011945191&amp;frm=20&amp;pv=1&amp;ga_vid=518647378.1647289512&amp;ga_sid=1647289512&amp;ga_hid=2075256681&amp;ga_fc=1&amp;u_tz=540&amp;u_his=2&amp;u_h=1080&amp;u_w=1920&amp;u_ah=1040&amp;u_aw=1920&amp;u_cd=24&amp;u_sd=1&amp;dmc=8&amp;adx=397&amp;ady=113&amp;biw=912&amp;bih=887&amp;scr_x=0&amp;scr_y=0&amp;eid=44759875%2C44759926%2C44759842%2C42531398%2C44750774%2C21065725%2C31064018&amp;oid=2&amp;pvsid=3554202090473420&amp;pem=375&amp;tmod=958116048&amp;uas=0&amp;nvt=1&amp;eae=0&amp;fc=1920&amp;brdim=10%2C10%2C10%2C10%2C1920%2C0%2C945%2C1020%2C929%2C887&amp;vis=1&amp;rsz=%7C%7ClE%7C&amp;abl=CS&amp;pfx=0&amp;fu=1024&amp;bc=31&amp;ifi=3&amp;uci=a!3&amp;fsb=1&amp;xpc=NspzesdsRI&amp;p=https%3A//www.chargekorea.com&amp;dtd=340\" style=\"left:0;position:absolute;top:0;border:0;width:336px;height:280px\" vspace=\"0\" width=\"336\"></iframe></ins></ins></ins>\n",
       "<script>\n",
       "\t\t\t\t (adsbygoogle = window.adsbygoogle || []).push({});\n",
       "\t\t\t</script>\n",
       "</div>\n",
       "<div style=\"float:left;width:387px;height:280px;margin-left:10px\">\n",
       "<table class=\"nomargin\" style=\"width:100%;height:130px;background:white\">\n",
       "<tbody><tr><td style=\"background:#cd0a6f;width:10px\"></td><td style=\"background:#cd0a6f;color:white;height:30px\"><b>추천 충전소</b></td></tr><tr><td style=\"width:10px\"></td><td style=\"height:60px\">\n",
       "<div><a href=\"detail.php?uid=1620\"><b>관문체육공원</b></a></div>\n",
       "<div style=\"margin-top:10px;color:gray;font-size:14px\">경기도 과천시 관문동</div>\n",
       "</td></tr>\n",
       "<tr><td colspan=\"2\" style=\"height:30px;text-align:center;border-top:1px solid #d3d3d3\"><a href=\"list.php?orderby=review\" style=\"color:gray;font-size:14px\">추천 충전소 목록 더보기</a></td></tr>\n",
       "</tbody></table>\n",
       "<table class=\"datatable\" style=\"width:100%;height:40px;margin-top:10px\"><tbody><tr><td style=\"text-align:center;background:#336699\"><a href=\"list.php?orderby=count\" style=\"color:white;font-size:15px\">가장 충전기가 많은 충전소는?</a></td></tr></tbody></table><table class=\"datatable\" style=\"width:100%;height:40px;background:white;margin-top:10px\"><tbody><tr><td style=\"text-align:center;\"><a href=\"list.php?orderby=new\" style=\"font-size:15px\">새로 오픈한 충전소 목록</a></td></tr></tbody></table>\n",
       "<table class=\"datatable\" style=\"width:100%;margin-top:10px;height:40px\"><tbody><tr><td style=\"text-align:center;background:white\"><a href=\"list.php?usenow=1\" style=\"font-size:15px\">지금 충전 가능한 충전소 목록</a></td></tr></tbody></table>\n",
       "</div>\n",
       "<div style=\"clear:both;\"></div><div style=\"margin-top:12px;float:left;line-height:32px\"><h1>서울특별시 강서구 충전소 목록</h1></div><div style=\"float:right;margin-top:12px\">\n",
       "<div style=\"float:left\">\n",
       "<form action=\"/charge/list.php?pagenum=2&amp;addcode=11500&amp;searchkeyword=&amp;orderby=count&amp;hashtag=&amp;usenow=&amp;parkingfee=&amp;chargespeed=\" method=\"get\" style=\"display:inline\"><input name=\"chargespeed\" type=\"hidden\" value=\"\"/><input name=\"parkingfee\" type=\"hidden\" value=\"\"/><input name=\"orderby\" type=\"hidden\" value=\"count\"/><input name=\"usenow\" type=\"hidden\" value=\"\"/><input name=\"searchkeyword\" type=\"hidden\" value=\"\"/><select name=\"addcode\" onchange=\"this.form.submit();\" style=\"height:32px\"><option value=\"\">전국</option><option selected=\"\" value=\"11\">서울특별시</option><option value=\"26\">부산광역시</option><option value=\"27\">대구광역시</option><option value=\"28\">인천광역시</option><option value=\"29\">광주광역시</option><option value=\"30\">대전광역시</option><option value=\"31\">울산광역시</option><option value=\"36110\">세종시</option><option value=\"41\">경기도</option><option value=\"42\">강원도</option><option value=\"43\">충청북도</option><option value=\"44\">충청남도</option><option value=\"45\">전라북도</option><option value=\"46\">전라남도</option><option value=\"47\">경상북도</option><option value=\"48\">경상남도</option><option value=\"50\">제주도</option></select></form></div><div style=\"display:inline;float:left;margin-left:10px\"><form action=\"/charge/list.php?pagenum=2&amp;addcode=11500&amp;searchkeyword=&amp;orderby=count&amp;hashtag=&amp;usenow=&amp;parkingfee=&amp;chargespeed=\" method=\"get\" style=\"display:inline\"><input name=\"chargespeed\" type=\"hidden\" value=\"\"/><input name=\"parkingfee\" type=\"hidden\" value=\"\"/><input name=\"usenow\" type=\"hidden\" value=\"\"/><input name=\"orderby\" type=\"hidden\" value=\"count\"/><input name=\"searchkeyword\" type=\"hidden\" value=\"\"/><select name=\"addcode\" onchange=\"this.form.submit();\" style=\"height:32px\"><option value=\"11\">전체</option><option value=\"11110\">종로구</option><option value=\"11140\">중구</option><option value=\"11170\">용산구</option><option value=\"11200\">성동구</option><option value=\"11215\">광진구</option><option value=\"11230\">동대문구</option><option value=\"11260\">중랑구</option><option value=\"11290\">성북구</option><option value=\"11305\">강북구</option><option value=\"11320\">도봉구</option><option value=\"11350\">노원구</option><option value=\"11380\">은평구</option><option value=\"11410\">서대문구</option><option value=\"11440\">마포구</option><option value=\"11470\">양천구</option><option selected=\"\" value=\"11500\">강서구</option><option value=\"11530\">구로구</option><option value=\"11545\">금천구</option><option value=\"11560\">영등포구</option><option value=\"11590\">동작구</option><option value=\"11620\">관악구</option><option value=\"11650\">서초구</option><option value=\"11680\">강남구</option><option value=\"11710\">송파구</option><option value=\"11740\">강동구</option></select></form></div>\n",
       "<div style=\"float:left;margin-left:10px\">\n",
       "<form action=\"/charge/list.php?pagenum=2&amp;addcode=11500&amp;searchkeyword=&amp;orderby=count&amp;hashtag=&amp;usenow=&amp;parkingfee=&amp;chargespeed=\" method=\"get\" style=\"display:inline\"><input name=\"parkingfee\" type=\"hidden\" value=\"\"/><input name=\"orderby\" type=\"hidden\" value=\"count\"/><input name=\"addcode\" type=\"hidden\" value=\"11500\"/><input name=\"usenow\" type=\"hidden\" value=\"\"/><input name=\"searchkeyword\" type=\"hidden\" value=\"\"/><select name=\"chargespeed\" onchange=\"this.form.submit();\" style=\"height:32px\"><option value=\"\">속도 선택</option>\n",
       "<option value=\"fast\">급속</option>\n",
       "<option value=\"slow\">완속</option>\n",
       "</select></form>\n",
       "</div>\n",
       "<div style=\"float:left;margin-left:10px\">\n",
       "<form action=\"/charge/list.php?pagenum=2&amp;addcode=11500&amp;searchkeyword=&amp;orderby=count&amp;hashtag=&amp;usenow=&amp;parkingfee=&amp;chargespeed=\" method=\"get\" style=\"display:inline\"><input name=\"chargespeed\" type=\"hidden\" value=\"\"/><input name=\"orderby\" type=\"hidden\" value=\"count\"/><input name=\"addcode\" type=\"hidden\" value=\"11500\"/><input name=\"usenow\" type=\"hidden\" value=\"\"/><input name=\"searchkeyword\" type=\"hidden\" value=\"\"/><select name=\"parkingfee\" onchange=\"this.form.submit();\" style=\"height:32px\"><option value=\"\">주차비 선택</option>\n",
       "<option value=\"free\">무료주차</option>\n",
       "<option value=\"notfree\">유료/확인필요</option>\n",
       "</select></form>\n",
       "</div>\n",
       "<div style=\"float:left;margin-left:10px\">\n",
       "<form action=\"/charge/list.php?pagenum=2&amp;addcode=11500&amp;searchkeyword=&amp;orderby=count&amp;hashtag=&amp;usenow=&amp;parkingfee=&amp;chargespeed=\" method=\"get\" style=\"display:inline\"><input name=\"chargespeed\" type=\"hidden\" value=\"\"/><input name=\"parkingfee\" type=\"hidden\" value=\"\"/><input name=\"addcode\" type=\"hidden\" value=\"11500\"/><input name=\"usenow\" type=\"hidden\" value=\"\"/><input name=\"searchkeyword\" type=\"hidden\" value=\"\"/><select name=\"orderby\" onchange=\"this.form.submit();\" style=\"height:32px\"><option value=\"\">조회수많은순</option>\n",
       "<option value=\"review\">추천후기많은순</option>\n",
       "<option selected=\"\" value=\"count\">충전기많은순</option>\n",
       "<option value=\"new\">최근설치순</option>\n",
       "</select></form>\n",
       "</div>\n",
       "</div>\n",
       "<div style=\"clear:both\"></div><table class=\"datatable12\" style=\"width:100%;background:white;margin-top:12px\"><tbody><tr><td style=\"text-align:center;border-top:1px solid #e5e5e5;border-bottom:1px solid #d3d3d3;width:10%\"><b>번호</b></td><td style=\"border-top:1px solid #e5e5e5;border-bottom:1px solid #d3d3d3\"><b>충전소명</b></td><td style=\"text-align:center;border-top:1px solid #e5e5e5;border-bottom:1px solid #d3d3d3\"><b>충전기정보</b></td></tr><tr><td style=\"text-align:center;\">11</td><td style=\"width:70%\">\n",
       "<div style=\"float:left\"><a href=\"detail.php?uid=33646\">마곡나루보타닉푸르지오시티관리단</a></div>\n",
       "<div style=\"clear:both;float:left;margin-top:10px\"><a href=\"list.php?addcode=11500\" style=\"color:gray;font-size:14px\">서울특별시 강서구 마곡동</a></div></td><td style=\"text-align:center;\"><div style=\"text-align:center;color:gray;font-size:15px\">전체 충전기 : 10대<br/></div><div style=\"clear:both;text-align:center;margin-top:10px;font-size:15px;color:#336699\">사용가능 : 9대</div></td></tr><tr><td colspan=\"3\" style=\"height:1px;background-image:url(//daycarekorea.com/cdn/body_bg.png);background-repeat:repeat;padding:0px\"></td></tr><tr><td style=\"text-align:center;\">12</td><td style=\"width:70%\">\n",
       "<div style=\"float:left\"><a href=\"detail.php?uid=8311\">이대서울병원</a></div>\n",
       "<div style=\"clear:both;float:left;margin-top:10px\"><a href=\"list.php?addcode=11500\" style=\"color:gray;font-size:14px\">서울특별시 강서구 마곡동</a></div></td><td style=\"text-align:center;\"><div style=\"text-align:center;color:gray;font-size:15px\">전체 충전기 : 10대<br/></div><div style=\"clear:both;text-align:center;margin-top:10px;font-size:15px;color:#336699\">사용가능 : 9대</div></td></tr><tr><td colspan=\"3\" style=\"height:1px;background-image:url(//daycarekorea.com/cdn/body_bg.png);background-repeat:repeat;padding:0px\"></td></tr><tr><td style=\"text-align:center;\">13</td><td style=\"width:70%\">\n",
       "<div style=\"float:left\"><a href=\"detail.php?uid=39036\">서울시 강서구 염창동아3차아파트</a></div>\n",
       "<div style=\"clear:both;float:left;margin-top:10px\"><a href=\"list.php?addcode=11500\" style=\"color:gray;font-size:14px\">서울특별시 강서구 염창동</a></div></td><td style=\"text-align:center;\"><div style=\"text-align:center;color:gray;font-size:15px\">전체 충전기 : 10대<br/></div><div style=\"clear:both;text-align:center;margin-top:10px;font-size:15px;color:#336699\">사용가능 : 9대</div></td></tr><tr><td colspan=\"3\" style=\"height:1px;background-image:url(//daycarekorea.com/cdn/body_bg.png);background-repeat:repeat;padding:0px\"></td></tr><tr><td style=\"text-align:center;\">14</td><td style=\"width:70%\">\n",
       "<div style=\"float:left\"><a href=\"detail.php?uid=39044\">서울시 강서구 한화꿈에그린아파트</a></div>\n",
       "<div style=\"clear:both;float:left;margin-top:10px\"><a href=\"list.php?addcode=11500\" style=\"color:gray;font-size:14px\">서울특별시 강서구 염창동</a></div></td><td style=\"text-align:center;\"><div style=\"text-align:center;color:gray;font-size:15px\">전체 충전기 : 10대<br/></div><div style=\"clear:both;text-align:center;margin-top:10px;font-size:15px;color:#336699\">사용가능 : 9대</div></td></tr><tr><td colspan=\"3\" style=\"height:1px;background-image:url(//daycarekorea.com/cdn/body_bg.png);background-repeat:repeat;padding:0px\"></td></tr><tr><td style=\"text-align:center;\">15</td><td style=\"width:70%\">\n",
       "<div style=\"float:left\"><a href=\"detail.php?uid=34501\">우장산롯데캐슬 입주자대표회의</a></div>\n",
       "<div style=\"clear:both;float:left;margin-top:10px\"><a href=\"list.php?addcode=11500\" style=\"color:gray;font-size:14px\">서울특별시 강서구 화곡동</a></div></td><td style=\"text-align:center;\"><div style=\"text-align:center;color:gray;font-size:15px\">전체 충전기 : 10대<br/></div><div style=\"clear:both;text-align:center;margin-top:10px;font-size:15px;color:#336699\">사용가능 : 8대</div></td></tr><tr><td colspan=\"3\" style=\"height:1px;background-image:url(//daycarekorea.com/cdn/body_bg.png);background-repeat:repeat;padding:0px\"></td></tr><tr><td style=\"text-align:center;\">16</td><td style=\"width:70%\">\n",
       "<div style=\"float:left\"><a href=\"detail.php?uid=33234\">마곡엠밸리14단지</a></div>\n",
       "<div style=\"clear:both;float:left;margin-top:10px\"><a href=\"list.php?addcode=11500\" style=\"color:gray;font-size:14px\">서울특별시 강서구 마곡동</a></div></td><td style=\"text-align:center;\"><div style=\"text-align:center;color:gray;font-size:15px\">전체 충전기 : 10대<br/></div><div style=\"clear:both;text-align:center;margin-top:10px;font-size:15px;color:#336699\">사용가능 : 8대</div></td></tr><tr><td colspan=\"3\" style=\"height:1px;background-image:url(//daycarekorea.com/cdn/body_bg.png);background-repeat:repeat;padding:0px\"></td></tr><tr><td style=\"text-align:center;\">17</td><td style=\"width:70%\">\n",
       "<div style=\"float:left\"><a href=\"detail.php?uid=40157\">LG사이언스파크 화학 E5</a></div>\n",
       "<div style=\"clear:both;float:left;margin-top:10px\"><a href=\"list.php?addcode=11500\" style=\"color:gray;font-size:14px\">서울특별시 강서구 마곡동</a></div></td><td style=\"text-align:center;\"><div style=\"text-align:center;color:gray;font-size:15px\">전체 충전기 : 10대<br/></div><div style=\"clear:both;text-align:center;margin-top:10px;font-size:15px;color:#336699\">사용가능 : 10대</div></td></tr><tr><td colspan=\"3\" style=\"height:1px;background-image:url(//daycarekorea.com/cdn/body_bg.png);background-repeat:repeat;padding:0px\"></td></tr><tr><td style=\"text-align:center;\">18</td><td style=\"width:70%\">\n",
       "<div style=\"float:left\"><a href=\"detail.php?uid=3099\">NC백화점-강서</a></div>\n",
       "<div style=\"clear:both;float:left;margin-top:10px\"><a href=\"list.php?addcode=11500\" style=\"color:gray;font-size:14px\">서울특별시 강서구 등촌동</a></div></td><td style=\"text-align:center;\"><div style=\"text-align:center;color:gray;font-size:15px\">전체 충전기 : 9대<br/></div><div style=\"clear:both;text-align:center;margin-top:10px;font-size:15px;color:#336699\">사용가능 : 6대</div></td></tr><tr><td colspan=\"3\" style=\"height:1px;background-image:url(//daycarekorea.com/cdn/body_bg.png);background-repeat:repeat;padding:0px\"></td></tr><tr><td style=\"text-align:center;\">19</td><td style=\"width:70%\">\n",
       "<div style=\"float:left\"><a href=\"detail.php?uid=31713\">케이티가양빌딩</a></div>\n",
       "<div style=\"clear:both;float:left;margin-top:10px\"><a href=\"list.php?addcode=11500\" style=\"color:gray;font-size:14px\">서울특별시 강서구 등촌동</a></div></td><td style=\"text-align:center;\"><div style=\"text-align:center;color:gray;font-size:15px\">전체 충전기 : 9대<br/></div><div style=\"clear:both;text-align:center;margin-top:10px;font-size:15px;color:#336699\">사용가능 : 9대</div></td></tr><tr><td colspan=\"3\" style=\"height:1px;background-image:url(//daycarekorea.com/cdn/body_bg.png);background-repeat:repeat;padding:0px\"></td></tr><tr><td style=\"text-align:center;\">20</td><td style=\"width:70%\">\n",
       "<div style=\"float:left\"><a href=\"detail.php?uid=44292\">등촌대림아파트</a></div>\n",
       "<div style=\"clear:both;float:left;margin-top:10px\"><a href=\"list.php?addcode=11500\" style=\"color:gray;font-size:14px\">서울특별시 강서구 등촌동</a></div></td><td style=\"text-align:center;\"><div style=\"text-align:center;color:gray;font-size:15px\">전체 충전기 : 8대<br/></div><div style=\"clear:both;text-align:center;margin-top:10px;font-size:15px;color:gray\">사용가능 : 0대</div></td></tr><tr><td colspan=\"3\" style=\"height:1px;background-image:url(//daycarekorea.com/cdn/body_bg.png);background-repeat:repeat;padding:0px\"></td></tr></tbody></table><div style=\"text-align:center;background:white\"><table class=\"datatable20\" style=\"width:30%;display:inline\"><tbody><tr><td style=\"text-align:center\"><a href=\"list.php?pagenum=1&amp;addcode=11500&amp;searchkeyword=&amp;orderby=count&amp;hashtag=&amp;usenow=&amp;parkingfee=&amp;chargespeed=\">이전</a></td><td style=\"text-align:center\">2</td><td style=\"text-align:center\"><a href=\"list.php?pagenum=3&amp;addcode=11500&amp;searchkeyword=&amp;orderby=count&amp;hashtag=&amp;usenow=&amp;parkingfee=&amp;chargespeed=\">다음</a></td></tr></tbody></table></div> </div>\n",
       "</div>\n",
       "<footer id=\"bottom_wrap\" style=\"width:100%;background:#333333;margin-top:10px\">\n",
       "<div style=\"height:50px;color:#d3d3d3;line-height:50px;font-size:13px\">\n",
       "<div style=\"width:1130px;height:50px;line-height:50px;margin:auto;text-align:center\">\n",
       "<a href=\"https://www.aptrank.com\" rel=\"nofollow\" style=\"color:#d3d3d3;font-size:13px\" target=\"_self\">아파트랭킹</a>\n",
       "<span style=\"display:inline-block;width:30px\">|</span>\n",
       "<a href=\"https://www.dustrank.com\" rel=\"nofollow\" style=\"color:#d3d3d3\" target=\"_self\">미세먼지랭킹</a>\n",
       "<span style=\"display:inline-block;width:30px\">|</span>\n",
       "<a href=\"https://www.korearank.com\" rel=\"nofollow\" style=\"color:#d3d3d3\" target=\"_self\">관광지랭킹</a>\n",
       "<span style=\"display:inline-block;width:30px\">|</span>\n",
       "<a href=\"https://www.goodhosrank.com\" rel=\"nofollow\" style=\"color:#d3d3d3\" target=\"_self\">병원랭킹</a>\n",
       "<span style=\"display:inline-block;width:30px\">|</span>\n",
       "<a href=\"https://www.daycarekorea.com\" rel=\"nofollow\" style=\"color:#d3d3d3\" target=\"_self\">어린이집/유치원찾기</a>\n",
       "<span style=\"display:inline-block;width:30px\">|</span>\n",
       "<a href=\"https://pharm.goodhosrank.com\" rel=\"nofollow\" style=\"color:#d3d3d3\" target=\"_self\">약국찾기</a>\n",
       "<span style=\"display:inline-block;width:30px\">|</span>\n",
       "<a href=\"https://www.chargekorea.com\" rel=\"nofollow\" style=\"color:#d3d3d3\" target=\"_self\">전기차충전소찾기</a>\n",
       "<span style=\"display:inline-block;width:30px\">|</span>\n",
       "<a href=\"https://www.silvercarekorea.com\" rel=\"nofollow\" style=\"color:#d3d3d3\" target=\"_self\">요양기관찾기</a>\n",
       "<span style=\"display:inline-block;width:30px\">|</span>\n",
       "<a href=\"https://www.edufindkorea.com\" rel=\"nofollow\" style=\"color:#d3d3d3\" target=\"_self\">학교/학원찾기</a>\n",
       "</div>\n",
       "</div>\n",
       "<div id=\"bottom_main\" style=\"padding-bottom:10px;width:1130px;height:30px;line-height:30px;margin:auto;text-align:center;font-size:15px;color:white\">\n",
       "\t\tⓒ 전기차충전소찾기 전국 전기차충전소 정보 | 문의 : aptrank@naver.com | <a href=\"privacy.php\" style=\"color:white;font-size:15px\">개인정보보호정책</a> | 데이터출처 : 한국환경공단\n",
       "\t</div>\n",
       "</footer>\n",
       "<script>\n",
       "\n",
       "function autokeyword(inputkeyword)\n",
       "{\n",
       "\tdocument.all['autolayer'].style.display = \"none\";\n",
       "\t\t\n",
       "\tif (window.XMLHttpRequest)\n",
       "\t{\n",
       "\t\tsxmlhttp = new XMLHttpRequest();\n",
       "\t}\n",
       "\telse\n",
       "\t{\n",
       "\t\tsxmlhttp = new ActiveXObject(\"Microsoft.XMLHTTP\");\n",
       "\t}\n",
       "\n",
       "\tsxmlhttp.open(\"GET\",\"autokeyword.php?searchkeyword=\"+encodeURIComponent(inputkeyword));\n",
       "\n",
       "\n",
       "\n",
       "\tsxmlhttp.onreadystatechange = function() \n",
       "\t{\n",
       "\t\tif(sxmlhttp.readyState == 4 && sxmlhttp.status == 200) \n",
       "\t\t{\n",
       "\t\t if(sxmlhttp.responseText)\n",
       "\t\t\t{\n",
       "\t\t\t\tdocument.all['autolayer'].style.display = \"inline\";\n",
       "\t\t\t\tdocument.getElementById('autolayer').innerHTML=\"<table cellpadding=0 style='width:539px;border-left:1px solid #d3d3d3;border-right:1px solid #d3d3d3;border-bottom:1px solid #d3d3d3' bgcolor=white><tr><td>\"+sxmlhttp.responseText+\"</td></tr></table>\";\n",
       "\t\t\t}\n",
       "\t\t}\n",
       "\t}\n",
       "\tsxmlhttp.send(null);\n",
       "}\n",
       "\n",
       "function redcolor(aidaid)\n",
       "{\n",
       "\tdocument.getElementById(aidaid).style.background='#efefef';\n",
       "\tdocument.getElementById(aidaid).style.color='black';\n",
       "}\n",
       "\n",
       "function blackcolor(aidaid)\n",
       "{\n",
       "\tdocument.getElementById(aidaid).style.background='white';\n",
       "\tdocument.getElementById(aidaid).style.color='gray';\n",
       "}\n",
       "\n",
       "function insertkeyword(addcode)\n",
       "{\n",
       "\n",
       "\t/*\n",
       "\tif (window.XMLHttpRequest)\n",
       "\t{\n",
       "\t\tlogxmlhttp = new XMLHttpRequest();\n",
       "\t}\n",
       "\telse\n",
       "\t{\n",
       "\t\tlogxmlhttp = new ActiveXObject(\"Microsoft.XMLHTTP\");\n",
       "\t}\n",
       "\n",
       "\tlogxmlhttp.open(\"GET\",\"searchloginsert.php?cnameuid=\"+companyuid);\n",
       "\n",
       "\tlogxmlhttp.send(null);\n",
       "\n",
       "\t*/\n",
       "\n",
       "\n",
       "\n",
       "\tdocument.getElementById('addcode').value=addcode;\n",
       "\tdocument.searchform.submit();\n",
       "}\n",
       "\n",
       "function showadd2(add1)\n",
       "{\n",
       "\tif (window.XMLHttpRequest)\n",
       "\t{\n",
       "\t\txmlhttp = new XMLHttpRequest();\n",
       "\t}\n",
       "\telse\n",
       "\t{\n",
       "\t\txmlhttp = new ActiveXObject(\"Microsoft.XMLHTTP\");\n",
       "\t}\n",
       "\n",
       "\txmlhttp.open(\"GET\",\"selectaddress.php?add1=\"+add1);\n",
       "\n",
       "\txmlhttp.onreadystatechange = function() \n",
       "\t{//Call a function when the state changes.\n",
       "\t\tif(xmlhttp.readyState == 4 && xmlhttp.status == 200) \n",
       "\t\t{\n",
       "\t\t if(xmlhttp.responseText)\n",
       "\t\t\t{\n",
       "\n",
       "\t\t\t\tdocument.getElementById('add2layer').innerHTML=xmlhttp.responseText;\n",
       "\t\t\t\tdocument.getElementById('add3layer').innerHTML=\"<select id=add3 name=add3 onchange=showadd4(this.value); style='width:100%;height:32px'><option>읍/면/동 선택</option></select>\";\n",
       "\t\t\t}\n",
       "\t\t}\n",
       "\t}\n",
       "\n",
       "\txmlhttp.send(null);\n",
       "}\n",
       "\n",
       "function showadd3(add2)\n",
       "{\n",
       "\n",
       "\tvar add1=document.getElementById('add1').value;\n",
       "\n",
       "\n",
       "\n",
       "\tif (window.XMLHttpRequest)\n",
       "\t{\n",
       "\t\txmlhttp = new XMLHttpRequest();\n",
       "\t}\n",
       "\telse\n",
       "\t{\n",
       "\t\txmlhttp = new ActiveXObject(\"Microsoft.XMLHTTP\");\n",
       "\t}\n",
       "\n",
       "\txmlhttp.open(\"GET\",\"selectaddress.php?add1=\"+add1+\"&add2=\"+add2+\"&shownext=&orderby=count\");\n",
       "\n",
       "\txmlhttp.onreadystatechange = function() \n",
       "\t{//Call a function when the state changes.\n",
       "\t\tif(xmlhttp.readyState == 4 && xmlhttp.status == 200) \n",
       "\t\t{\n",
       "\t\t if(xmlhttp.responseText)\n",
       "\t\t\t{\n",
       "\t\t\t\tdocument.getElementById('add3layer').innerHTML=xmlhttp.responseText;\n",
       "\t\t\t}\n",
       "\t\t}\n",
       "\t}\n",
       "\n",
       "\txmlhttp.send(null);\n",
       "}\n",
       "\n",
       "function showadd4(add3)\n",
       "{\n",
       "\tvar add1=document.getElementById('add1').value;\n",
       "\tvar add2=document.getElementById('add2').value;\n",
       "\t\n",
       "\tif (window.XMLHttpRequest)\n",
       "\t{\n",
       "\t\txmlhttp = new XMLHttpRequest();\n",
       "\t}\n",
       "\telse\n",
       "\t{\n",
       "\t\txmlhttp = new ActiveXObject(\"Microsoft.XMLHTTP\");\n",
       "\t}\n",
       "\n",
       "\txmlhttp.open(\"GET\",\"selectaddress.php?add1=\"+add1+\"&add2=\"+add2+\"&add3=\"+add3+\"&shownext=&orderby=count\");\n",
       "\t\n",
       "\txmlhttp.onreadystatechange = function() \n",
       "\t{//Call a function when the state changes.\n",
       "\t\tif(xmlhttp.readyState == 4 && xmlhttp.status == 200) \n",
       "\t\t{\n",
       "\t\t if(xmlhttp.responseText)\n",
       "\t\t\t{\n",
       "\n",
       "\t\t\t\tdocument.getElementById('add4layer').innerHTML=xmlhttp.responseText;\n",
       "\t\t\t}\n",
       "\t\t}\n",
       "\t}\n",
       "\n",
       "\txmlhttp.send(null);\n",
       "}\n",
       "\n",
       "function movetochargedetail(chargeuid)\n",
       "{\n",
       "\tif(chargeuid)\n",
       "\t{\n",
       "\t\tlocation.href=\"detail.php?uid=\"+chargeuid;\n",
       "\t}\n",
       "}\n",
       "\n",
       "function showmenu(layerID)\n",
       "{\n",
       "\tdocument.all[layerID].style.display = \"inline\";\n",
       "\t\n",
       "\tif(layerID=='categoryback')\n",
       "\t{\n",
       "\t\tdocument.getElementById('categoryback').innerHTML=\"<table width=\"+window.screen.availWidth+\" cellpadding=0 cellspacing=0 height=\"+document.body.scrollHeight+\"><tr><td bgcolor=gray onclick=closeallmenu();><font color=gray>.</td></tr></table>\";\n",
       "\t}\n",
       "}\n",
       "\n",
       "function hidemenu(layerID) \n",
       "{\n",
       "\tdocument.all[layerID].style.display = \"none\";\n",
       "}\n",
       "\n",
       "\n",
       "function formsubmit()\n",
       "{\n",
       "\tvar cname=document.getElementById('searchkeyword').value;\n",
       "\n",
       "\treturn true;\n",
       "}\n",
       "\n",
       "function dbupdate()\n",
       "{\n",
       "\tif (window.XMLHttpRequest)\n",
       "\t{\n",
       "\t\txmlhttp = new XMLHttpRequest();\n",
       "\t}\n",
       "\telse\n",
       "\t{\n",
       "\t\txmlhttp = new ActiveXObject(\"Microsoft.XMLHTTP\");\n",
       "\t}\n",
       "\n",
       "\txmlhttp.open(\"GET\",\"set_1.php\",true);\n",
       "\n",
       "\txmlhttp.send(null);\n",
       "}\n",
       "\n",
       "function dbupdate2()\n",
       "{\n",
       "\tif (window.XMLHttpRequest)\n",
       "\t{\n",
       "\t\txmlhttp2 = new XMLHttpRequest();\n",
       "\t}\n",
       "\telse\n",
       "\t{\n",
       "\t\txmlhttp2 = new ActiveXObject(\"Microsoft.XMLHTTP\");\n",
       "\t}\n",
       "\n",
       "\txmlhttp2.open(\"GET\",\"set_3.php\",true);\n",
       "\n",
       "\txmlhttp2.send(null);\n",
       "}\n",
       "\n",
       "window.onload=function()\n",
       "{\n",
       "\tdbupdate();\n",
       "\tdbupdate2();\n",
       "}\n",
       "</script>\n",
       "<ins class=\"adsbygoogle adsbygoogle-noablate\" data-ad-status=\"unfilled\" data-adsbygoogle-status=\"done\" style=\"display: none !important;\"><ins aria-label=\"Advertisement\" id=\"aswift_0_expand\" style=\"border: none; height: 0px; width: 0px; margin: 0px; padding: 0px; position: relative; visibility: visible; background-color: transparent; display: inline-table;\" tabindex=\"0\" title=\"Advertisement\"><ins id=\"aswift_0_anchor\" style=\"border: none; height: 0px; width: 0px; margin: 0px; padding: 0px; position: relative; visibility: visible; background-color: transparent; display: block;\"><iframe allowtransparency=\"true\" data-google-container-id=\"a!1\" data-load-complete=\"true\" frameborder=\"0\" hspace=\"0\" id=\"aswift_0\" marginheight=\"0\" marginwidth=\"0\" name=\"aswift_0\" sandbox=\"allow-forms allow-popups allow-popups-to-escape-sandbox allow-same-origin allow-scripts allow-top-navigation-by-user-activation\" scrolling=\"no\" src=\"https://googleads.g.doubleclick.net/pagead/ads?client=ca-pub-8347495644930535&amp;output=html&amp;adk=1812271804&amp;adf=3025194257&amp;lmt=1647289512&amp;plat=1%3A8%2C2%3A8%2C3%3A32%2C4%3A32%2C9%3A32776%2C16%3A8388608%2C17%3A32%2C24%3A32%2C25%3A32%2C30%3A1048576%2C32%3A32&amp;format=0x0&amp;url=https%3A%2F%2Fwww.chargekorea.com%2Fcharge%2Flist.php%3Fpagenum%3D2%26addcode%3D11500%26searchkeyword%3D%26orderby%3Dcount%26hashtag%3D%26usenow%3D%26parkingfee%3D%26chargespeed%3D&amp;ea=0&amp;flash=0&amp;pra=5&amp;wgl=1&amp;uach=WyJXaW5kb3dzIiwiMTAuMC4wIiwieDg2IiwiIiwiOTkuMC40ODQ0LjUxIixbXSxudWxsLG51bGwsIjY0IixbWyIgTm90IEE7QnJhbmQiLCI5OS4wLjAuMCJdLFsiQ2hyb21pdW0iLCI5OS4wLjQ4NDQuNTEiXSxbIkdvb2dsZSBDaHJvbWUiLCI5OS4wLjQ4NDQuNTEiXV1d&amp;dt=1647289512112&amp;bpp=2&amp;bdt=312&amp;idt=318&amp;shv=r20220308&amp;mjsv=m202203090101&amp;ptt=9&amp;saldr=aa&amp;abxe=1&amp;nras=1&amp;correlator=7907011945191&amp;frm=20&amp;pv=2&amp;ga_vid=518647378.1647289512&amp;ga_sid=1647289512&amp;ga_hid=2075256681&amp;ga_fc=1&amp;u_tz=540&amp;u_his=2&amp;u_h=1080&amp;u_w=1920&amp;u_ah=1040&amp;u_aw=1920&amp;u_cd=24&amp;u_sd=1&amp;dmc=8&amp;adx=-12245933&amp;ady=-12245933&amp;biw=912&amp;bih=887&amp;scr_x=0&amp;scr_y=0&amp;eid=44759875%2C44759926%2C44759842%2C42531398%2C44750774%2C21065725%2C31064018&amp;oid=2&amp;pvsid=3554202090473420&amp;pem=375&amp;tmod=958116048&amp;uas=0&amp;nvt=1&amp;eae=2&amp;fc=1920&amp;brdim=10%2C10%2C10%2C10%2C1920%2C0%2C945%2C1020%2C929%2C887&amp;vis=1&amp;rsz=%7C%7Cs%7C&amp;abl=NS&amp;fu=33792&amp;bc=31&amp;ifi=1&amp;uci=a!1&amp;fsb=1&amp;dtd=331\" style=\"left:0;position:absolute;top:0;border:0;width:undefinedpx;height:undefinedpx\" vspace=\"0\"></iframe></ins></ins></ins><iframe height=\"0\" src=\"https://www.google.com/recaptcha/api2/aframe\" style=\"display: none;\" width=\"0\"></iframe></body><iframe id=\"google_esf\" name=\"google_esf\" src=\"https://googleads.g.doubleclick.net/pagead/html/r20220308/r20190131/zrt_lookup.html\" style=\"display: none;\"></iframe><ins aria-hidden=\"true\" class=\"adsbygoogle adsbygoogle-noablate\" data-ad-status=\"filled\" data-adsbygoogle-status=\"done\" data-vignette-loaded=\"true\" style=\"display: none !important; width: 100vw !important; height: 100vh !important; inset: 0px auto auto 0px !important; clear: none !important; float: none !important; margin: 0px !important; max-height: none !important; max-width: none !important; opacity: 1 !important; overflow: visible !important; padding: 0px !important; position: fixed !important; vertical-align: baseline !important; visibility: visible !important; z-index: 2147483647 !important; background: transparent !important;\"><ins aria-label=\"Advertisement\" id=\"aswift_3_expand\" style=\"border: none !important; height: 100vh !important; width: 100vw !important; margin: 0px !important; padding: 0px !important; position: relative !important; visibility: visible !important; background-color: transparent !important; display: inline-table !important; inset: auto !important; clear: none !important; float: none !important; max-height: none !important; max-width: none !important; opacity: 1 !important; overflow: visible !important; vertical-align: baseline !important; z-index: auto !important;\" tabindex=\"0\" title=\"Advertisement\"><ins id=\"aswift_3_anchor\" style=\"border: none !important; height: 100vh !important; width: 100vw !important; margin: 0px !important; padding: 0px !important; position: relative !important; visibility: visible !important; background-color: transparent !important; display: block !important; inset: auto !important; clear: none !important; float: none !important; max-height: none !important; max-width: none !important; opacity: 1 !important; overflow: visible !important; vertical-align: baseline !important; z-index: auto !important;\"><iframe allowtransparency=\"true\" data-google-container-id=\"a!4\" data-google-query-id=\"CLeX_tG3xvYCFZrITAIdJNoAmQ\" data-load-complete=\"true\" frameborder=\"0\" height=\"\" hspace=\"0\" id=\"aswift_3\" marginheight=\"0\" marginwidth=\"0\" name=\"aswift_3\" sandbox=\"allow-forms allow-popups allow-popups-to-escape-sandbox allow-same-origin allow-scripts allow-top-navigation-by-user-activation\" scrolling=\"no\" src=\"https://googleads.g.doubleclick.net/pagead/html/r20220308/r20110914/zrt_lookup.html?fsb=1#RS-0-&amp;adk=1812271808&amp;client=ca-pub-8347495644930535&amp;fa=8&amp;ifi=4&amp;uci=a!4&amp;xpc=NFChnYtce6&amp;p=https%3A//www.chargekorea.com\" style=\"width: 100vw !important; height: 100vh !important; inset: 0px auto auto 0px !important; position: absolute !important; clear: none !important; display: inline !important; float: none !important; margin: 0px !important; max-height: none !important; max-width: none !important; opacity: 1 !important; overflow: visible !important; padding: 0px !important; vertical-align: baseline !important; visibility: visible !important; z-index: auto !important;\" vspace=\"0\" width=\"\"></iframe></ins></ins></ins></html>"
      ]
     },
     "execution_count": 6,
     "metadata": {},
     "output_type": "execute_result"
    }
   ],
   "source": [
    "soup"
   ]
  },
  {
   "cell_type": "code",
   "execution_count": 7,
   "id": "d183f2c5",
   "metadata": {
    "scrolled": true
   },
   "outputs": [
    {
     "data": {
      "text/plain": [
       "[<tr><td style=\"text-align:center;border-top:1px solid #e5e5e5;border-bottom:1px solid #d3d3d3;width:10%\"><b>번호</b></td><td style=\"border-top:1px solid #e5e5e5;border-bottom:1px solid #d3d3d3\"><b>충전소명</b></td><td style=\"text-align:center;border-top:1px solid #e5e5e5;border-bottom:1px solid #d3d3d3\"><b>충전기정보</b></td></tr>,\n",
       " <tr><td style=\"text-align:center;\">11</td><td style=\"width:70%\">\n",
       " <div style=\"float:left\"><a href=\"detail.php?uid=33646\">마곡나루보타닉푸르지오시티관리단</a></div>\n",
       " <div style=\"clear:both;float:left;margin-top:10px\"><a href=\"list.php?addcode=11500\" style=\"color:gray;font-size:14px\">서울특별시 강서구 마곡동</a></div></td><td style=\"text-align:center;\"><div style=\"text-align:center;color:gray;font-size:15px\">전체 충전기 : 10대<br/></div><div style=\"clear:both;text-align:center;margin-top:10px;font-size:15px;color:#336699\">사용가능 : 9대</div></td></tr>,\n",
       " <tr><td colspan=\"3\" style=\"height:1px;background-image:url(//daycarekorea.com/cdn/body_bg.png);background-repeat:repeat;padding:0px\"></td></tr>,\n",
       " <tr><td style=\"text-align:center;\">12</td><td style=\"width:70%\">\n",
       " <div style=\"float:left\"><a href=\"detail.php?uid=8311\">이대서울병원</a></div>\n",
       " <div style=\"clear:both;float:left;margin-top:10px\"><a href=\"list.php?addcode=11500\" style=\"color:gray;font-size:14px\">서울특별시 강서구 마곡동</a></div></td><td style=\"text-align:center;\"><div style=\"text-align:center;color:gray;font-size:15px\">전체 충전기 : 10대<br/></div><div style=\"clear:both;text-align:center;margin-top:10px;font-size:15px;color:#336699\">사용가능 : 9대</div></td></tr>,\n",
       " <tr><td colspan=\"3\" style=\"height:1px;background-image:url(//daycarekorea.com/cdn/body_bg.png);background-repeat:repeat;padding:0px\"></td></tr>,\n",
       " <tr><td style=\"text-align:center;\">13</td><td style=\"width:70%\">\n",
       " <div style=\"float:left\"><a href=\"detail.php?uid=39036\">서울시 강서구 염창동아3차아파트</a></div>\n",
       " <div style=\"clear:both;float:left;margin-top:10px\"><a href=\"list.php?addcode=11500\" style=\"color:gray;font-size:14px\">서울특별시 강서구 염창동</a></div></td><td style=\"text-align:center;\"><div style=\"text-align:center;color:gray;font-size:15px\">전체 충전기 : 10대<br/></div><div style=\"clear:both;text-align:center;margin-top:10px;font-size:15px;color:#336699\">사용가능 : 9대</div></td></tr>,\n",
       " <tr><td colspan=\"3\" style=\"height:1px;background-image:url(//daycarekorea.com/cdn/body_bg.png);background-repeat:repeat;padding:0px\"></td></tr>,\n",
       " <tr><td style=\"text-align:center;\">14</td><td style=\"width:70%\">\n",
       " <div style=\"float:left\"><a href=\"detail.php?uid=39044\">서울시 강서구 한화꿈에그린아파트</a></div>\n",
       " <div style=\"clear:both;float:left;margin-top:10px\"><a href=\"list.php?addcode=11500\" style=\"color:gray;font-size:14px\">서울특별시 강서구 염창동</a></div></td><td style=\"text-align:center;\"><div style=\"text-align:center;color:gray;font-size:15px\">전체 충전기 : 10대<br/></div><div style=\"clear:both;text-align:center;margin-top:10px;font-size:15px;color:#336699\">사용가능 : 9대</div></td></tr>,\n",
       " <tr><td colspan=\"3\" style=\"height:1px;background-image:url(//daycarekorea.com/cdn/body_bg.png);background-repeat:repeat;padding:0px\"></td></tr>,\n",
       " <tr><td style=\"text-align:center;\">15</td><td style=\"width:70%\">\n",
       " <div style=\"float:left\"><a href=\"detail.php?uid=34501\">우장산롯데캐슬 입주자대표회의</a></div>\n",
       " <div style=\"clear:both;float:left;margin-top:10px\"><a href=\"list.php?addcode=11500\" style=\"color:gray;font-size:14px\">서울특별시 강서구 화곡동</a></div></td><td style=\"text-align:center;\"><div style=\"text-align:center;color:gray;font-size:15px\">전체 충전기 : 10대<br/></div><div style=\"clear:both;text-align:center;margin-top:10px;font-size:15px;color:#336699\">사용가능 : 8대</div></td></tr>,\n",
       " <tr><td colspan=\"3\" style=\"height:1px;background-image:url(//daycarekorea.com/cdn/body_bg.png);background-repeat:repeat;padding:0px\"></td></tr>,\n",
       " <tr><td style=\"text-align:center;\">16</td><td style=\"width:70%\">\n",
       " <div style=\"float:left\"><a href=\"detail.php?uid=33234\">마곡엠밸리14단지</a></div>\n",
       " <div style=\"clear:both;float:left;margin-top:10px\"><a href=\"list.php?addcode=11500\" style=\"color:gray;font-size:14px\">서울특별시 강서구 마곡동</a></div></td><td style=\"text-align:center;\"><div style=\"text-align:center;color:gray;font-size:15px\">전체 충전기 : 10대<br/></div><div style=\"clear:both;text-align:center;margin-top:10px;font-size:15px;color:#336699\">사용가능 : 8대</div></td></tr>,\n",
       " <tr><td colspan=\"3\" style=\"height:1px;background-image:url(//daycarekorea.com/cdn/body_bg.png);background-repeat:repeat;padding:0px\"></td></tr>,\n",
       " <tr><td style=\"text-align:center;\">17</td><td style=\"width:70%\">\n",
       " <div style=\"float:left\"><a href=\"detail.php?uid=40157\">LG사이언스파크 화학 E5</a></div>\n",
       " <div style=\"clear:both;float:left;margin-top:10px\"><a href=\"list.php?addcode=11500\" style=\"color:gray;font-size:14px\">서울특별시 강서구 마곡동</a></div></td><td style=\"text-align:center;\"><div style=\"text-align:center;color:gray;font-size:15px\">전체 충전기 : 10대<br/></div><div style=\"clear:both;text-align:center;margin-top:10px;font-size:15px;color:#336699\">사용가능 : 10대</div></td></tr>,\n",
       " <tr><td colspan=\"3\" style=\"height:1px;background-image:url(//daycarekorea.com/cdn/body_bg.png);background-repeat:repeat;padding:0px\"></td></tr>,\n",
       " <tr><td style=\"text-align:center;\">18</td><td style=\"width:70%\">\n",
       " <div style=\"float:left\"><a href=\"detail.php?uid=3099\">NC백화점-강서</a></div>\n",
       " <div style=\"clear:both;float:left;margin-top:10px\"><a href=\"list.php?addcode=11500\" style=\"color:gray;font-size:14px\">서울특별시 강서구 등촌동</a></div></td><td style=\"text-align:center;\"><div style=\"text-align:center;color:gray;font-size:15px\">전체 충전기 : 9대<br/></div><div style=\"clear:both;text-align:center;margin-top:10px;font-size:15px;color:#336699\">사용가능 : 6대</div></td></tr>,\n",
       " <tr><td colspan=\"3\" style=\"height:1px;background-image:url(//daycarekorea.com/cdn/body_bg.png);background-repeat:repeat;padding:0px\"></td></tr>,\n",
       " <tr><td style=\"text-align:center;\">19</td><td style=\"width:70%\">\n",
       " <div style=\"float:left\"><a href=\"detail.php?uid=31713\">케이티가양빌딩</a></div>\n",
       " <div style=\"clear:both;float:left;margin-top:10px\"><a href=\"list.php?addcode=11500\" style=\"color:gray;font-size:14px\">서울특별시 강서구 등촌동</a></div></td><td style=\"text-align:center;\"><div style=\"text-align:center;color:gray;font-size:15px\">전체 충전기 : 9대<br/></div><div style=\"clear:both;text-align:center;margin-top:10px;font-size:15px;color:#336699\">사용가능 : 9대</div></td></tr>,\n",
       " <tr><td colspan=\"3\" style=\"height:1px;background-image:url(//daycarekorea.com/cdn/body_bg.png);background-repeat:repeat;padding:0px\"></td></tr>,\n",
       " <tr><td style=\"text-align:center;\">20</td><td style=\"width:70%\">\n",
       " <div style=\"float:left\"><a href=\"detail.php?uid=44292\">등촌대림아파트</a></div>\n",
       " <div style=\"clear:both;float:left;margin-top:10px\"><a href=\"list.php?addcode=11500\" style=\"color:gray;font-size:14px\">서울특별시 강서구 등촌동</a></div></td><td style=\"text-align:center;\"><div style=\"text-align:center;color:gray;font-size:15px\">전체 충전기 : 8대<br/></div><div style=\"clear:both;text-align:center;margin-top:10px;font-size:15px;color:gray\">사용가능 : 0대</div></td></tr>,\n",
       " <tr><td colspan=\"3\" style=\"height:1px;background-image:url(//daycarekorea.com/cdn/body_bg.png);background-repeat:repeat;padding:0px\"></td></tr>]"
      ]
     },
     "execution_count": 7,
     "metadata": {},
     "output_type": "execute_result"
    }
   ],
   "source": [
    "station=soup.select('#body_main > table > tbody > tr')\n",
    "station"
   ]
  },
  {
   "cell_type": "code",
   "execution_count": 8,
   "id": "26082161",
   "metadata": {},
   "outputs": [
    {
     "data": {
      "text/plain": [
       "21"
      ]
     },
     "execution_count": 8,
     "metadata": {},
     "output_type": "execute_result"
    }
   ],
   "source": [
    "len(station)"
   ]
  },
  {
   "cell_type": "code",
   "execution_count": 9,
   "id": "1f4c6fa9",
   "metadata": {},
   "outputs": [
    {
     "data": {
      "text/plain": [
       "<tr><td style=\"text-align:center;border-top:1px solid #e5e5e5;border-bottom:1px solid #d3d3d3;width:10%\"><b>번호</b></td><td style=\"border-top:1px solid #e5e5e5;border-bottom:1px solid #d3d3d3\"><b>충전소명</b></td><td style=\"text-align:center;border-top:1px solid #e5e5e5;border-bottom:1px solid #d3d3d3\"><b>충전기정보</b></td></tr>"
      ]
     },
     "execution_count": 9,
     "metadata": {},
     "output_type": "execute_result"
    }
   ],
   "source": [
    "station[0]"
   ]
  },
  {
   "cell_type": "code",
   "execution_count": 10,
   "id": "b0a5809a",
   "metadata": {
    "scrolled": true
   },
   "outputs": [
    {
     "data": {
      "text/plain": [
       "'text-align:center;'"
      ]
     },
     "execution_count": 10,
     "metadata": {},
     "output_type": "execute_result"
    }
   ],
   "source": [
    "station[5].select('td')[0]['style']"
   ]
  },
  {
   "cell_type": "markdown",
   "id": "91929d72",
   "metadata": {},
   "source": [
    "## 괴랄맞는 빈칸, 앞뒤 부분 없애기"
   ]
  },
  {
   "cell_type": "code",
   "execution_count": 11,
   "id": "7da19da0",
   "metadata": {},
   "outputs": [],
   "source": [
    "a=[]\n",
    "for i in range(0,len(station)):\n",
    "    try:\n",
    "        if station[i].select('td')[0]['style']=='text-align:center;':\n",
    "            a.append(station[i])\n",
    "    except:\n",
    "        pass"
   ]
  },
  {
   "cell_type": "code",
   "execution_count": 12,
   "id": "8d18125c",
   "metadata": {},
   "outputs": [
    {
     "data": {
      "text/plain": [
       "10"
      ]
     },
     "execution_count": 12,
     "metadata": {},
     "output_type": "execute_result"
    }
   ],
   "source": [
    "len(a)"
   ]
  },
  {
   "cell_type": "code",
   "execution_count": 13,
   "id": "e71eead7",
   "metadata": {},
   "outputs": [
    {
     "data": {
      "text/plain": [
       "<tr><td style=\"text-align:center;\">11</td><td style=\"width:70%\">\n",
       "<div style=\"float:left\"><a href=\"detail.php?uid=33646\">마곡나루보타닉푸르지오시티관리단</a></div>\n",
       "<div style=\"clear:both;float:left;margin-top:10px\"><a href=\"list.php?addcode=11500\" style=\"color:gray;font-size:14px\">서울특별시 강서구 마곡동</a></div></td><td style=\"text-align:center;\"><div style=\"text-align:center;color:gray;font-size:15px\">전체 충전기 : 10대<br/></div><div style=\"clear:both;text-align:center;margin-top:10px;font-size:15px;color:#336699\">사용가능 : 9대</div></td></tr>"
      ]
     },
     "execution_count": 13,
     "metadata": {},
     "output_type": "execute_result"
    }
   ],
   "source": [
    "imsi=a[0]\n",
    "imsi"
   ]
  },
  {
   "cell_type": "code",
   "execution_count": 14,
   "id": "c906c634",
   "metadata": {},
   "outputs": [
    {
     "data": {
      "text/plain": [
       "'마곡나루보타닉푸르지오시티관리단'"
      ]
     },
     "execution_count": 14,
     "metadata": {},
     "output_type": "execute_result"
    }
   ],
   "source": [
    "# 충전소 이름\n",
    "station_name=imsi.select('td>div>a')[0].text\n",
    "station_name"
   ]
  },
  {
   "cell_type": "code",
   "execution_count": 15,
   "id": "5169bae2",
   "metadata": {},
   "outputs": [],
   "source": [
    "baseurl='https://www.chargekorea.com/charge/'"
   ]
  },
  {
   "cell_type": "code",
   "execution_count": 16,
   "id": "c41a9c15",
   "metadata": {},
   "outputs": [],
   "source": [
    "# 충전소 url\n",
    "station_url=imsi.select('td>div>a')[0]['href']\n",
    "station_url=baseurl+station_url"
   ]
  },
  {
   "cell_type": "code",
   "execution_count": 17,
   "id": "4d950ecc",
   "metadata": {},
   "outputs": [
    {
     "data": {
      "text/plain": [
       "'https://www.chargekorea.com/charge/detail.php?uid=33646'"
      ]
     },
     "execution_count": 17,
     "metadata": {},
     "output_type": "execute_result"
    }
   ],
   "source": [
    "station_url"
   ]
  },
  {
   "cell_type": "code",
   "execution_count": 18,
   "id": "fc6dbc25",
   "metadata": {},
   "outputs": [],
   "source": [
    "# for 문"
   ]
  },
  {
   "cell_type": "code",
   "execution_count": 19,
   "id": "9b20cba4",
   "metadata": {},
   "outputs": [],
   "source": [
    "station_list=[]\n",
    "baseurl='https://www.chargekorea.com/charge/'\n",
    "\n",
    "for imsi in a:\n",
    "    station_name=imsi.select('td>div>a')[0].text\n",
    "    station_url=baseurl+imsi.select('td>div>a')[0]['href']\n",
    "    station_list.append([station_name, station_url])"
   ]
  },
  {
   "cell_type": "code",
   "execution_count": 20,
   "id": "1bdfb770",
   "metadata": {},
   "outputs": [
    {
     "data": {
      "text/plain": [
       "[['마곡나루보타닉푸르지오시티관리단',\n",
       "  'https://www.chargekorea.com/charge/detail.php?uid=33646'],\n",
       " ['이대서울병원', 'https://www.chargekorea.com/charge/detail.php?uid=8311'],\n",
       " ['서울시 강서구 염창동아3차아파트',\n",
       "  'https://www.chargekorea.com/charge/detail.php?uid=39036'],\n",
       " ['서울시 강서구 한화꿈에그린아파트',\n",
       "  'https://www.chargekorea.com/charge/detail.php?uid=39044'],\n",
       " ['우장산롯데캐슬 입주자대표회의',\n",
       "  'https://www.chargekorea.com/charge/detail.php?uid=34501'],\n",
       " ['마곡엠밸리14단지', 'https://www.chargekorea.com/charge/detail.php?uid=33234'],\n",
       " ['LG사이언스파크 화학 E5', 'https://www.chargekorea.com/charge/detail.php?uid=40157'],\n",
       " ['NC백화점-강서', 'https://www.chargekorea.com/charge/detail.php?uid=3099'],\n",
       " ['케이티가양빌딩', 'https://www.chargekorea.com/charge/detail.php?uid=31713'],\n",
       " ['등촌대림아파트', 'https://www.chargekorea.com/charge/detail.php?uid=44292']]"
      ]
     },
     "execution_count": 20,
     "metadata": {},
     "output_type": "execute_result"
    }
   ],
   "source": [
    "station_list"
   ]
  },
  {
   "cell_type": "code",
   "execution_count": 21,
   "id": "156876d0",
   "metadata": {},
   "outputs": [],
   "source": [
    "# 함수로 만들기\n",
    "def get_stations(a):\n",
    "    station_list=[]\n",
    "    \n",
    "    station_list=[]\n",
    "    baseurl='https://www.chargekorea.com/charge/'\n",
    "\n",
    "    for imsi in a:\n",
    "        station_name=imsi.select('td>div>a')[0].text\n",
    "        station_url=baseurl+imsi.select('td>div>a')[0]['href']\n",
    "        station_list.append([station_name, station_url])\n",
    "    return station_list"
   ]
  },
  {
   "cell_type": "markdown",
   "id": "4cb2cd77",
   "metadata": {},
   "source": [
    "# 여러페이지 "
   ]
  },
  {
   "cell_type": "code",
   "execution_count": 22,
   "id": "fd93df04",
   "metadata": {},
   "outputs": [],
   "source": [
    "def get_page_url(page):\n",
    "    return 'https://www.chargekorea.com/charge/list.php?pagenum={}&addcode=11500&searchkeyword=&orderby=count&hashtag=&usenow=&parkingfee=&chargespeed='.format(page)"
   ]
  },
  {
   "cell_type": "code",
   "execution_count": 23,
   "id": "180024d0",
   "metadata": {},
   "outputs": [
    {
     "name": "stderr",
     "output_type": "stream",
     "text": [
      "C:\\Users\\FX506HM\\AppData\\Local\\Temp/ipykernel_18080/1409293043.py:1: DeprecationWarning: executable_path has been deprecated, please pass in a Service object\n",
      "  driver=webdriver.Chrome('chromedriver.exe')\n",
      "C:\\Users\\FX506HM\\AppData\\Local\\Temp/ipykernel_18080/1409293043.py:8: TqdmDeprecationWarning: This function will be removed in tqdm==5.0.0\n",
      "Please use `tqdm.notebook.tqdm` instead of `tqdm.tqdm_notebook`\n",
      "  for page in tqdm_notebook(range(1, total_page+1)):\n"
     ]
    },
    {
     "data": {
      "application/vnd.jupyter.widget-view+json": {
       "model_id": "21c487e672214447b86824bccdf3552e",
       "version_major": 2,
       "version_minor": 0
      },
      "text/plain": [
       "  0%|          | 0/27 [00:00<?, ?it/s]"
      ]
     },
     "metadata": {},
     "output_type": "display_data"
    }
   ],
   "source": [
    "driver=webdriver.Chrome('chromedriver.exe')\n",
    "driver.implicitly_wait(3)\n",
    "\n",
    "total_page=27\n",
    "station_data_total=[]\n",
    "\n",
    "# 진행 정도를 표현하는 tqdm을 적용\n",
    "for page in tqdm_notebook(range(1, total_page+1)):\n",
    "    url=get_page_url(page)\n",
    "    driver.get(url)\n",
    "    time.sleep(3)\n",
    "    \n",
    "    html=driver.page_source\n",
    "    soup=BeautifulSoup(html,'html.parser')\n",
    "    \n",
    "    station=soup.select('#body_main > table > tbody > tr')\n",
    "    a=[]\n",
    "    for i in range(0,len(station)):\n",
    "        try:\n",
    "            if station[i].select('td')[0]['style']=='text-align:center;':\n",
    "                a.append(station[i])\n",
    "        except:\n",
    "            pass\n",
    "        \n",
    "    station_imsi=get_stations(a)\n",
    "    station_data_total=station_data_total+station_imsi"
   ]
  },
  {
   "cell_type": "code",
   "execution_count": 24,
   "id": "ad8ad093",
   "metadata": {},
   "outputs": [
    {
     "data": {
      "text/plain": [
       "269"
      ]
     },
     "execution_count": 24,
     "metadata": {},
     "output_type": "execute_result"
    }
   ],
   "source": [
    "len(station_data_total)"
   ]
  },
  {
   "cell_type": "code",
   "execution_count": 29,
   "id": "f74f80fc",
   "metadata": {},
   "outputs": [
    {
     "data": {
      "text/html": [
       "<div>\n",
       "<style scoped>\n",
       "    .dataframe tbody tr th:only-of-type {\n",
       "        vertical-align: middle;\n",
       "    }\n",
       "\n",
       "    .dataframe tbody tr th {\n",
       "        vertical-align: top;\n",
       "    }\n",
       "\n",
       "    .dataframe thead th {\n",
       "        text-align: right;\n",
       "    }\n",
       "</style>\n",
       "<table border=\"1\" class=\"dataframe\">\n",
       "  <thead>\n",
       "    <tr style=\"text-align: right;\">\n",
       "      <th></th>\n",
       "      <th>0</th>\n",
       "      <th>1</th>\n",
       "    </tr>\n",
       "  </thead>\n",
       "  <tbody>\n",
       "    <tr>\n",
       "      <th>0</th>\n",
       "      <td>마곡엠벨리14단지</td>\n",
       "      <td>https://www.chargekorea.com/charge/detail.php?...</td>\n",
       "    </tr>\n",
       "    <tr>\n",
       "      <th>1</th>\n",
       "      <td>마곡엠밸리9단지 (서울에너지공사)</td>\n",
       "      <td>https://www.chargekorea.com/charge/detail.php?...</td>\n",
       "    </tr>\n",
       "    <tr>\n",
       "      <th>2</th>\n",
       "      <td>한화꿈에그린아파트</td>\n",
       "      <td>https://www.chargekorea.com/charge/detail.php?...</td>\n",
       "    </tr>\n",
       "    <tr>\n",
       "      <th>3</th>\n",
       "      <td>마곡엠벨리 8단지</td>\n",
       "      <td>https://www.chargekorea.com/charge/detail.php?...</td>\n",
       "    </tr>\n",
       "    <tr>\n",
       "      <th>4</th>\n",
       "      <td>염창동동아아파트 입주자대표회의(콘센트)</td>\n",
       "      <td>https://www.chargekorea.com/charge/detail.php?...</td>\n",
       "    </tr>\n",
       "    <tr>\n",
       "      <th>...</th>\n",
       "      <td>...</td>\n",
       "      <td>...</td>\n",
       "    </tr>\n",
       "    <tr>\n",
       "      <th>264</th>\n",
       "      <td>서울 강서구 초록마을로 32길 33-22 (저압수용가)</td>\n",
       "      <td>https://www.chargekorea.com/charge/detail.php?...</td>\n",
       "    </tr>\n",
       "    <tr>\n",
       "      <th>265</th>\n",
       "      <td>한국지엠강서서비스</td>\n",
       "      <td>https://www.chargekorea.com/charge/detail.php?...</td>\n",
       "    </tr>\n",
       "    <tr>\n",
       "      <th>266</th>\n",
       "      <td>마곡수명산파크8단지</td>\n",
       "      <td>https://www.chargekorea.com/charge/detail.php?...</td>\n",
       "    </tr>\n",
       "    <tr>\n",
       "      <th>267</th>\n",
       "      <td>롯데렌탈</td>\n",
       "      <td>https://www.chargekorea.com/charge/detail.php?...</td>\n",
       "    </tr>\n",
       "    <tr>\n",
       "      <th>268</th>\n",
       "      <td>개화산역 공영주차장</td>\n",
       "      <td>https://www.chargekorea.com/charge/detail.php?...</td>\n",
       "    </tr>\n",
       "  </tbody>\n",
       "</table>\n",
       "<p>269 rows × 2 columns</p>\n",
       "</div>"
      ],
      "text/plain": [
       "                                  0  \\\n",
       "0                         마곡엠벨리14단지   \n",
       "1                마곡엠밸리9단지 (서울에너지공사)   \n",
       "2                         한화꿈에그린아파트   \n",
       "3                         마곡엠벨리 8단지   \n",
       "4             염창동동아아파트 입주자대표회의(콘센트)   \n",
       "..                              ...   \n",
       "264  서울 강서구 초록마을로 32길 33-22 (저압수용가)   \n",
       "265                       한국지엠강서서비스   \n",
       "266                      마곡수명산파크8단지   \n",
       "267                            롯데렌탈   \n",
       "268                      개화산역 공영주차장   \n",
       "\n",
       "                                                     1  \n",
       "0    https://www.chargekorea.com/charge/detail.php?...  \n",
       "1    https://www.chargekorea.com/charge/detail.php?...  \n",
       "2    https://www.chargekorea.com/charge/detail.php?...  \n",
       "3    https://www.chargekorea.com/charge/detail.php?...  \n",
       "4    https://www.chargekorea.com/charge/detail.php?...  \n",
       "..                                                 ...  \n",
       "264  https://www.chargekorea.com/charge/detail.php?...  \n",
       "265  https://www.chargekorea.com/charge/detail.php?...  \n",
       "266  https://www.chargekorea.com/charge/detail.php?...  \n",
       "267  https://www.chargekorea.com/charge/detail.php?...  \n",
       "268  https://www.chargekorea.com/charge/detail.php?...  \n",
       "\n",
       "[269 rows x 2 columns]"
      ]
     },
     "execution_count": 29,
     "metadata": {},
     "output_type": "execute_result"
    }
   ],
   "source": [
    "station_df=pd.DataFrame(station_data_total)\n",
    "station_df"
   ]
  },
  {
   "cell_type": "code",
   "execution_count": 28,
   "id": "0e4d51fb",
   "metadata": {},
   "outputs": [],
   "source": [
    "station_df.to_csv('지윤.csv', encoding='utf-8-sig')"
   ]
  },
  {
   "cell_type": "code",
   "execution_count": null,
   "id": "1e254c23",
   "metadata": {},
   "outputs": [],
   "source": []
  }
 ],
 "metadata": {
  "kernelspec": {
   "display_name": "Python 3 (ipykernel)",
   "language": "python",
   "name": "python3"
  },
  "language_info": {
   "codemirror_mode": {
    "name": "ipython",
    "version": 3
   },
   "file_extension": ".py",
   "mimetype": "text/x-python",
   "name": "python",
   "nbconvert_exporter": "python",
   "pygments_lexer": "ipython3",
   "version": "3.8.12"
  },
  "toc": {
   "base_numbering": 1,
   "nav_menu": {},
   "number_sections": true,
   "sideBar": true,
   "skip_h1_title": false,
   "title_cell": "Table of Contents",
   "title_sidebar": "Contents",
   "toc_cell": false,
   "toc_position": {},
   "toc_section_display": true,
   "toc_window_display": false
  }
 },
 "nbformat": 4,
 "nbformat_minor": 5
}
