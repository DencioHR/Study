{
 "cells": [
  {
   "cell_type": "code",
   "execution_count": 1,
   "metadata": {},
   "outputs": [],
   "source": [
    "import requests\n",
    "from bs4 import BeautifulSoup\n",
    "import time\n",
    "import re\n",
    "import pandas as pd"
   ]
  },
  {
   "cell_type": "markdown",
   "metadata": {},
   "source": [
    "#### 1. 조회 변수 설정"
   ]
  },
  {
   "cell_type": "markdown",
   "metadata": {},
   "source": [
    "##### 1.1. 조회 변수 설정"
   ]
  },
  {
   "cell_type": "code",
   "execution_count": 2,
   "metadata": {},
   "outputs": [],
   "source": [
    "# 오늘날짜 (YYYY/MM/DD) <- 이 부분만 변경하면 됨.\n",
    "currentDate = '2022/02/12'"
   ]
  },
  {
   "cell_type": "markdown",
   "metadata": {},
   "source": [
    "##### 1.2. 고정 상수 설정"
   ]
  },
  {
   "cell_type": "code",
   "execution_count": 3,
   "metadata": {},
   "outputs": [],
   "source": [
    "# 조회할 기간 from <- (!) 2016/09/03 데이터부터 유효하므로, 아래 데이터는 불변\n",
    "inputFromDt = '2016/09/03'\n",
    "\n",
    "# 조회할 기간 to <- 오늘날짜 currentDate와 동일하게 처리\n",
    "inputToDt = currentDate\n",
    "\n",
    "# 첫 페이지\n",
    "currentPageNo = 1\n",
    "\n",
    "# 조회할 페이지(고정)\n",
    "recordCountPerPage = 100"
   ]
  },
  {
   "cell_type": "markdown",
   "metadata": {},
   "source": [
    "#### 2. 페이지 정보 가져오기"
   ]
  },
  {
   "cell_type": "code",
   "execution_count": 4,
   "metadata": {},
   "outputs": [],
   "source": [
    "url = f\"https://www.g2b.go.kr:8070/um/injustice/injusticeBizerList.do?bizRegNo=&callbackFunction=&chfNm=&currentDate={currentDate}&currentPageNo={currentPageNo}&inputFromDt={inputFromDt}&inputToDt={inputToDt}&isOver=2&othr=&pcontKindCd=&periodChk=choise&popYn=&recordCountPerPage={recordCountPerPage}&reqCl=&sanctionInstCd=&sanctionInstNm=&searchUseYn=Y&whereAreYouFrom=ALL\""
   ]
  },
  {
   "cell_type": "code",
   "execution_count": null,
   "metadata": {},
   "outputs": [],
   "source": [
    "r = requests.get(url)\n",
    "r.text"
   ]
  },
  {
   "cell_type": "code",
   "execution_count": null,
   "metadata": {},
   "outputs": [],
   "source": [
    "soup = BeautifulSoup(r.text, 'html.parser')\n",
    "soup"
   ]
  },
  {
   "cell_type": "code",
   "execution_count": 8,
   "metadata": {},
   "outputs": [],
   "source": [
    "def get_full_pagination(soup):\n",
    "    \"\"\"\n",
    "    전체 페이지를 조회하는 코드\n",
    "    \"\"\"\n",
    "\n",
    "    p = re.compile(r\"currentPageNo=(.*)\")\n",
    "    full_page = [i for i in soup.find_all('div', {'id':'pagination'})][0].find_all('a')\n",
    "    full_page_result = [re.findall(p, i.get('href'))[0] for i in full_page]\n",
    "    \n",
    "    full_page_tmp = list(set(full_page_result))\n",
    "    result = sorted([int(i) for i in full_page_tmp]) \n",
    "    \n",
    "    return result"
   ]
  },
  {
   "cell_type": "code",
   "execution_count": 9,
   "metadata": {},
   "outputs": [
    {
     "data": {
      "text/plain": [
       "[1, 2, 3, 4, 5, 6, 7, 8, 9, 10, 11]"
      ]
     },
     "execution_count": 9,
     "metadata": {},
     "output_type": "execute_result"
    }
   ],
   "source": [
    "full_pagination = get_full_pagination(soup)\n",
    "full_pagination.insert(0, 1) # 첫번째 페이지 수기 추가\n",
    "full_pagination\n"
   ]
  },
  {
   "cell_type": "markdown",
   "metadata": {},
   "source": [
    "#### 3. 가져온 페이지 정보로 페이지 내 항목을 조회"
   ]
  },
  {
   "cell_type": "code",
   "execution_count": 10,
   "metadata": {},
   "outputs": [],
   "source": [
    "def url_get_page_result_list(url):\n",
    "    \"\"\"\n",
    "    url 페이지 내 항목을 조회하는 코드\n",
    "    \"\"\"\n",
    "\n",
    "    p_injusticeNo = re.compile(r\"toOnDetail\\('(.*?)'\")\n",
    "    p_injusticeModseq = re.compile(r\",'(.*?)'\")\n",
    "\n",
    "    header_line_item = ['_dummy1', 'No.', '상호명', '사업자등록번호', '원인부정당정보', '제재기관', '제재시작일자', '대표자명','_dummy2']\n",
    "\n",
    "    result = []\n",
    "\n",
    "    r = requests.get(url)\n",
    "    soup = BeautifulSoup(r.text, 'html.parser')\n",
    "\n",
    "    list_of_items = soup.find_all('tbody')\n",
    "    for line_item in list_of_items:\n",
    "        line_item_lv1 = [i.text.strip() for i in line_item.find_all('td')]\n",
    "        line_item_lv2 = dict(zip(header_line_item, line_item_lv1))\n",
    "\n",
    "        line_item_detail_lv1 = line_item.find('a', {'class':'btn_mdl'})['href']\n",
    "        injusticeNo = re.findall(p_injusticeNo, line_item_detail_lv1)[0]\n",
    "        injusticeModseq = re.findall(p_injusticeModseq, line_item_detail_lv1)[0]\n",
    "        \n",
    "        url_detail = f'https://www.g2b.go.kr:8070/um/injustice/injusticeBizerDtl.do?flag=view&injusticeNo={injusticeNo}&injusticeModseq={injusticeModseq}&whereAreYouFrom=ALL'\n",
    "        line_item_lv2['상태조회'] = url_detail\n",
    "\n",
    "        result.append(line_item_lv2)\n",
    "\n",
    "    time.sleep(1)\n",
    "    return result"
   ]
  },
  {
   "cell_type": "code",
   "execution_count": 11,
   "metadata": {},
   "outputs": [],
   "source": [
    "result = []\n",
    "for target_pagination in full_pagination:\n",
    "    currentPageNo = target_pagination\n",
    "    url = f\"https://www.g2b.go.kr:8070/um/injustice/injusticeBizerList.do?bizRegNo=&callbackFunction=&chfNm=&currentDate={currentDate}&currentPageNo={currentPageNo}&inputFromDt={inputFromDt}&inputToDt={inputToDt}&isOver=2&othr=&pcontKindCd=&periodChk=choise&popYn=&recordCountPerPage={recordCountPerPage}&reqCl=&sanctionInstCd=&sanctionInstNm=&searchUseYn=Y&whereAreYouFrom=ALL\"\n",
    "    \n",
    "    result.append(pd.DataFrame(url_get_page_result_list(url)))"
   ]
  },
  {
   "cell_type": "code",
   "execution_count": 12,
   "metadata": {},
   "outputs": [],
   "source": [
    "df_concat = pd.concat(result)\n",
    "del df_concat['_dummy1']\n",
    "del df_concat['_dummy2']"
   ]
  },
  {
   "cell_type": "code",
   "execution_count": 15,
   "metadata": {},
   "outputs": [
    {
     "data": {
      "text/html": [
       "<div>\n",
       "<style scoped>\n",
       "    .dataframe tbody tr th:only-of-type {\n",
       "        vertical-align: middle;\n",
       "    }\n",
       "\n",
       "    .dataframe tbody tr th {\n",
       "        vertical-align: top;\n",
       "    }\n",
       "\n",
       "    .dataframe thead th {\n",
       "        text-align: right;\n",
       "    }\n",
       "</style>\n",
       "<table border=\"1\" class=\"dataframe\">\n",
       "  <thead>\n",
       "    <tr style=\"text-align: right;\">\n",
       "      <th></th>\n",
       "      <th>No.</th>\n",
       "      <th>상호명</th>\n",
       "      <th>사업자등록번호</th>\n",
       "      <th>원인부정당정보</th>\n",
       "      <th>제재기관</th>\n",
       "      <th>제재시작일자</th>\n",
       "      <th>대표자명</th>\n",
       "      <th>상태조회</th>\n",
       "    </tr>\n",
       "  </thead>\n",
       "  <tbody>\n",
       "    <tr>\n",
       "      <th>0</th>\n",
       "      <td>1</td>\n",
       "      <td>주식회사 이조건설</td>\n",
       "      <td>2648102635</td>\n",
       "      <td>2648102635 (주식회사 이조건설)</td>\n",
       "      <td>조달청</td>\n",
       "      <td>2022/02/12</td>\n",
       "      <td>이창훈</td>\n",
       "      <td>https://www.g2b.go.kr:8070/um/injustice/injust...</td>\n",
       "    </tr>\n",
       "    <tr>\n",
       "      <th>1</th>\n",
       "      <td>2</td>\n",
       "      <td>코스텍유한회사</td>\n",
       "      <td>3118125477</td>\n",
       "      <td>3118125477 (코스텍유한회사)</td>\n",
       "      <td>조달청</td>\n",
       "      <td>2022/02/12</td>\n",
       "      <td>임종길</td>\n",
       "      <td>https://www.g2b.go.kr:8070/um/injustice/injust...</td>\n",
       "    </tr>\n",
       "    <tr>\n",
       "      <th>2</th>\n",
       "      <td>3</td>\n",
       "      <td>코스텍유한회사서천지점</td>\n",
       "      <td>5028542634</td>\n",
       "      <td>3118125477 (코스텍유한회사)</td>\n",
       "      <td>조달청</td>\n",
       "      <td>2022/02/12</td>\n",
       "      <td></td>\n",
       "      <td>https://www.g2b.go.kr:8070/um/injustice/injust...</td>\n",
       "    </tr>\n",
       "    <tr>\n",
       "      <th>3</th>\n",
       "      <td>4</td>\n",
       "      <td>(주)현진테크</td>\n",
       "      <td>1968600232</td>\n",
       "      <td>1968600232 ((주)현진테크)</td>\n",
       "      <td>조달청</td>\n",
       "      <td>2022/02/12</td>\n",
       "      <td>오연숙</td>\n",
       "      <td>https://www.g2b.go.kr:8070/um/injustice/injust...</td>\n",
       "    </tr>\n",
       "    <tr>\n",
       "      <th>4</th>\n",
       "      <td>5</td>\n",
       "      <td>상아문화사</td>\n",
       "      <td>4410301986</td>\n",
       "      <td>4410301986 (상아문화사)</td>\n",
       "      <td>조달청</td>\n",
       "      <td>2022/02/12</td>\n",
       "      <td>김성근</td>\n",
       "      <td>https://www.g2b.go.kr:8070/um/injustice/injust...</td>\n",
       "    </tr>\n",
       "  </tbody>\n",
       "</table>\n",
       "</div>"
      ],
      "text/plain": [
       "  No.          상호명     사업자등록번호                 원인부정당정보 제재기관      제재시작일자 대표자명  \\\n",
       "0   1    주식회사 이조건설  2648102635  2648102635 (주식회사 이조건설)  조달청  2022/02/12  이창훈   \n",
       "1   2      코스텍유한회사  3118125477    3118125477 (코스텍유한회사)  조달청  2022/02/12  임종길   \n",
       "2   3  코스텍유한회사서천지점  5028542634    3118125477 (코스텍유한회사)  조달청  2022/02/12        \n",
       "3   4      (주)현진테크  1968600232    1968600232 ((주)현진테크)  조달청  2022/02/12  오연숙   \n",
       "4   5        상아문화사  4410301986      4410301986 (상아문화사)  조달청  2022/02/12  김성근   \n",
       "\n",
       "                                                상태조회  \n",
       "0  https://www.g2b.go.kr:8070/um/injustice/injust...  \n",
       "1  https://www.g2b.go.kr:8070/um/injustice/injust...  \n",
       "2  https://www.g2b.go.kr:8070/um/injustice/injust...  \n",
       "3  https://www.g2b.go.kr:8070/um/injustice/injust...  \n",
       "4  https://www.g2b.go.kr:8070/um/injustice/injust...  "
      ]
     },
     "execution_count": 15,
     "metadata": {},
     "output_type": "execute_result"
    }
   ],
   "source": [
    "df_concat.to_excel('./sanction_list_result.xlsx', index=False)\n",
    "df_concat.head()"
   ]
  },
  {
   "cell_type": "markdown",
   "metadata": {},
   "source": [
    "#### 4. 페이지 내 항목의 상세항목 조회"
   ]
  },
  {
   "cell_type": "code",
   "execution_count": 16,
   "metadata": {},
   "outputs": [],
   "source": [
    "def url_get_page_detail_result_tuple(url_detail):\n",
    "    \"\"\"\n",
    "    url_detail 상세조회 페이지 조회 코드\n",
    "    \"\"\"\n",
    "    \n",
    "    result = {}\n",
    "\n",
    "    r = requests.get(url_detail)\n",
    "    soup = BeautifulSoup(r.text, 'html.parser')\n",
    "    \n",
    "    result['문서번호'] = soup.find('th', text='문서번호').find_next_sibling('td').text\n",
    "    result['게재일시'] = soup.find('th', text='게재일시').find_next_sibling('td').text\n",
    "    result['법인등록번호'] = soup.find('th', text='법인등록번호').find_next_sibling('td').text\n",
    "    result['제재근거'] = soup.find('th', text='제재근거').find_next_sibling('td').text\n",
    "    result['조항호'] = soup.find('th', text='조항호').find_next_sibling('td').text\n",
    "    result['조항호코드명'] = soup.find('th', text='조항호코드명').find_next_sibling('td').text\n",
    "    result['조항호코드명_전체'] = soup.find('th', text='만료년월일').find_next_sibling('td').text\n",
    "    result['시행규칙76조별표2'] = soup.find('th', text='시행규칙76조별표2').find_next_sibling('td').text\n",
    "    result['시행규칙76조별표2명'] = soup.find('th', text='시행규칙76조별표2명').find_next_sibling('td').text\n",
    "    result['제재년월일'] = soup.find('th', text='제재년월일').find_next_sibling('td').text\n",
    "    result['만료년월일'] = soup.find('th', text='만료년월일').find_next_sibling('td').text\n",
    "    result['제재기간'] = soup.find('th', text='제재기간').find_next_sibling('td').text.strip()\n",
    "    result['제재기간일수'] = soup.find('th', text='제재기간일수').find_next_sibling('td').text\n",
    "    result['계약종류'] = soup.find('th', text='계약종류').find_next_sibling('td').text\n",
    "\n",
    "\n",
    "    # 원 부정당 업체와 법인번호가 동일하여 부정당제재 처리된 업체 존재여부 확인\n",
    "    is_corp_restricted = soup.find('table', {'summary':re.compile('법인제재 표시 테이블.*')})\n",
    "    if is_corp_restricted is None:\n",
    "        result_is_corp_restricted = None\n",
    "    else:\n",
    "        result_is_corp_restricted = soup_get_page_detail_result_corp_restricted_list(is_corp_restricted)\n",
    "\n",
    "    # 부정당업자제재이력 확인\n",
    "    is_history = soup.find_all('tbody', {'onmouseover':\"this.className='on'\"})\n",
    "    result_is_history = soup_get_page_detail_result_history_list(is_history)\n",
    "\n",
    "    time.sleep(1)\n",
    "    return ([result], result_is_corp_restricted, result_is_history)\n",
    "    "
   ]
  },
  {
   "cell_type": "code",
   "execution_count": 17,
   "metadata": {},
   "outputs": [],
   "source": [
    "def soup_get_page_detail_result_corp_restricted_list(soup):\n",
    "    \"\"\"\n",
    "    상세조회 페이지 내 [ 법인 제재 ] 조회 코드 <- (!) 있을수도 있고 없을수도 있는 항목\n",
    "    \"\"\"\n",
    "    # soup은 넘겨받은 is_corp_restricted\n",
    "    # is_corp_restricted = soup.find('table', {'summary':re.compile('법인제재 표시 테이블.*')})\n",
    "\n",
    "\n",
    "    header_line_item = ['사업자등록번호', '상호명.', '본사여부']\n",
    "\n",
    "    result = []\n",
    "\n",
    "    list_of_items = soup.find_all('tr')\n",
    "    for line_item in list_of_items:\n",
    "        line_item_lv1 = [i.text.strip() for i in line_item.find_all('td')]\n",
    "        line_item_lv2 = dict(zip(header_line_item, line_item_lv1))\n",
    "\n",
    "        result.append(line_item_lv2)\n",
    "\n",
    "    return result"
   ]
  },
  {
   "cell_type": "code",
   "execution_count": 18,
   "metadata": {},
   "outputs": [],
   "source": [
    "def soup_get_page_detail_result_history_list(soup):\n",
    "    \"\"\"\n",
    "    상세조회 페이지 내 [ 부정당업자제재 이력 ] 조회 코드\n",
    "    \"\"\"\n",
    "    # soup은 넘겨받은 soup.find_all('tbody', {'onmouseover':\"this.className='on'\"})    \n",
    "\n",
    "    header_line_item = ['_dummy1', '부정당번호/차수', '통보일시', '제재구분', '통보/정정일자', '정지일자', '재개일자', '해제일자', '삭제일자', '_dummy2', '사유']\n",
    "\n",
    "    result = []\n",
    "\n",
    "    list_of_items = soup\n",
    "    for line_item in list_of_items:\n",
    "        line_item_lv1 = [i.text.strip() for i in line_item.find_all('td')]\n",
    "        line_item_lv2 = dict(zip(header_line_item, line_item_lv1))\n",
    "\n",
    "        result.append(line_item_lv2)\n",
    "\n",
    "    return result"
   ]
  },
  {
   "cell_type": "code",
   "execution_count": 19,
   "metadata": {},
   "outputs": [],
   "source": [
    "\"\"\"\n",
    "WinError 10060 발생으로 인한 df_concat_partial 쪼개기\n",
    "-> 300개씩 쪼갰을 때 문제 없음\n",
    "\"\"\"\n",
    "# df_concat_partial = df_concat['상태조회'].iloc[:300]\n",
    "# df_concat_partial = df_concat['상태조회'].iloc[300:600]\n",
    "# df_concat_partial = df_concat['상태조회'].iloc[600:900]\n",
    "df_concat_partial = df_concat['상태조회'].iloc[900:]\n",
    "\n",
    "detail_result_tmp = []\n",
    "detail_result_is_corp_restricted_tmp = []\n",
    "detail_result_is_history_tmp = []\n",
    "\n",
    "for url_detail in df_concat_partial:\n",
    "    detail_result, detail_result_is_corp_restricted, detail_result_is_history = url_get_page_detail_result_tuple(url_detail)\n",
    "\n",
    "    df_detail_result = pd.DataFrame(detail_result)\n",
    "    df_detail_result['상태조회'] = url_detail\n",
    "    detail_result_tmp.append(df_detail_result)\n",
    "\n",
    "    if detail_result_is_corp_restricted is not None:\n",
    "        df_detail_result_is_corp_restricted = pd.DataFrame(detail_result_is_corp_restricted)\n",
    "        df_detail_result_is_corp_restricted['상태조회'] = url_detail\n",
    "        detail_result_is_corp_restricted_tmp.append(df_detail_result_is_corp_restricted)\n",
    "\n",
    "    df_detail_result_is_history = pd.DataFrame(detail_result_is_history)\n",
    "    df_detail_result_is_history['상태조회'] = url_detail        \n",
    "    detail_result_is_history_tmp.append(pd.DataFrame(df_detail_result_is_history))"
   ]
  },
  {
   "cell_type": "code",
   "execution_count": 20,
   "metadata": {},
   "outputs": [
    {
     "data": {
      "text/html": [
       "<div>\n",
       "<style scoped>\n",
       "    .dataframe tbody tr th:only-of-type {\n",
       "        vertical-align: middle;\n",
       "    }\n",
       "\n",
       "    .dataframe tbody tr th {\n",
       "        vertical-align: top;\n",
       "    }\n",
       "\n",
       "    .dataframe thead th {\n",
       "        text-align: right;\n",
       "    }\n",
       "</style>\n",
       "<table border=\"1\" class=\"dataframe\">\n",
       "  <thead>\n",
       "    <tr style=\"text-align: right;\">\n",
       "      <th></th>\n",
       "      <th>문서번호</th>\n",
       "      <th>게재일시</th>\n",
       "      <th>법인등록번호</th>\n",
       "      <th>제재근거</th>\n",
       "      <th>조항호</th>\n",
       "      <th>조항호코드명</th>\n",
       "      <th>조항호코드명_전체</th>\n",
       "      <th>시행규칙76조별표2</th>\n",
       "      <th>시행규칙76조별표2명</th>\n",
       "      <th>제재년월일</th>\n",
       "      <th>만료년월일</th>\n",
       "      <th>제재기간</th>\n",
       "      <th>제재기간일수</th>\n",
       "      <th>계약종류</th>\n",
       "      <th>상태조회</th>\n",
       "    </tr>\n",
       "  </thead>\n",
       "  <tbody>\n",
       "    <tr>\n",
       "      <th>0</th>\n",
       "      <td>1270000</td>\n",
       "      <td>2017/01/13 16:59</td>\n",
       "      <td>1342110122583</td>\n",
       "      <td>국가를당사자로하는계약에관한법률 제27조제1항</td>\n",
       "      <td>법27조01항08호 령76조01항02호 가목 - 110000015</td>\n",
       "      <td>계약의 불체결.불이행,주요계약조건 위반</td>\n",
       "      <td>2017/03/11</td>\n",
       "      <td>16가</td>\n",
       "      <td>가. 계약을 체결 또는 이행(하자보수의무의 이행을 포함한다)하지 아니한 자</td>\n",
       "      <td>2016/12/12</td>\n",
       "      <td>2017/03/11</td>\n",
       "      <td>3 월</td>\n",
       "      <td>0 일</td>\n",
       "      <td>물품구매</td>\n",
       "      <td>https://www.g2b.go.kr:8070/um/injustice/injust...</td>\n",
       "    </tr>\n",
       "  </tbody>\n",
       "</table>\n",
       "</div>"
      ],
      "text/plain": [
       "      문서번호              게재일시         법인등록번호                       제재근거  \\\n",
       "0  1270000  2017/01/13 16:59  1342110122583  국가를당사자로하는계약에관한법률 제27조제1항    \n",
       "\n",
       "                                    조항호                 조항호코드명   조항호코드명_전체  \\\n",
       "0  법27조01항08호 령76조01항02호 가목 - 110000015  계약의 불체결.불이행,주요계약조건 위반  2017/03/11   \n",
       "\n",
       "  시행규칙76조별표2                                시행규칙76조별표2명       제재년월일  \\\n",
       "0        16가  가. 계약을 체결 또는 이행(하자보수의무의 이행을 포함한다)하지 아니한 자  2016/12/12   \n",
       "\n",
       "        만료년월일 제재기간 제재기간일수  계약종류  \\\n",
       "0  2017/03/11  3 월    0 일  물품구매   \n",
       "\n",
       "                                                상태조회  \n",
       "0  https://www.g2b.go.kr:8070/um/injustice/injust...  "
      ]
     },
     "execution_count": 20,
     "metadata": {},
     "output_type": "execute_result"
    }
   ],
   "source": [
    "df_concat_detail_result = pd.concat(detail_result_tmp)\n",
    "df_concat_detail_result.tail(1)"
   ]
  },
  {
   "cell_type": "code",
   "execution_count": 21,
   "metadata": {},
   "outputs": [
    {
     "data": {
      "text/html": [
       "<div>\n",
       "<style scoped>\n",
       "    .dataframe tbody tr th:only-of-type {\n",
       "        vertical-align: middle;\n",
       "    }\n",
       "\n",
       "    .dataframe tbody tr th {\n",
       "        vertical-align: top;\n",
       "    }\n",
       "\n",
       "    .dataframe thead th {\n",
       "        text-align: right;\n",
       "    }\n",
       "</style>\n",
       "<table border=\"1\" class=\"dataframe\">\n",
       "  <thead>\n",
       "    <tr style=\"text-align: right;\">\n",
       "      <th></th>\n",
       "      <th>사업자등록번호</th>\n",
       "      <th>상태조회</th>\n",
       "      <th>상호명.</th>\n",
       "      <th>본사여부</th>\n",
       "    </tr>\n",
       "  </thead>\n",
       "  <tbody>\n",
       "    <tr>\n",
       "      <th>1</th>\n",
       "      <td>2128529330</td>\n",
       "      <td>https://www.g2b.go.kr:8070/um/injustice/injust...</td>\n",
       "      <td>(주)더팜지점</td>\n",
       "      <td>지사</td>\n",
       "    </tr>\n",
       "  </tbody>\n",
       "</table>\n",
       "</div>"
      ],
      "text/plain": [
       "      사업자등록번호                                               상태조회     상호명. 본사여부\n",
       "1  2128529330  https://www.g2b.go.kr:8070/um/injustice/injust...  (주)더팜지점   지사"
      ]
     },
     "execution_count": 21,
     "metadata": {},
     "output_type": "execute_result"
    }
   ],
   "source": [
    "if len(detail_result_is_corp_restricted_tmp) == 0:\n",
    "    df_concat_detail_result_is_corp_restricted = None\n",
    "else:    \n",
    "    df_concat_detail_result_is_corp_restricted = pd.concat(detail_result_is_corp_restricted_tmp)\n",
    "df_concat_detail_result_is_corp_restricted.tail(1) "
   ]
  },
  {
   "cell_type": "code",
   "execution_count": 22,
   "metadata": {},
   "outputs": [],
   "source": [
    "df_concat_detail_result_is_history = pd.concat(detail_result_is_history_tmp)\n",
    "\n",
    "del df_concat_detail_result_is_history['_dummy1']\n",
    "del df_concat_detail_result_is_history['_dummy2']\n",
    "\n",
    "# df_concat_detail_result_is_history.tail(1)"
   ]
  },
  {
   "cell_type": "code",
   "execution_count": 23,
   "metadata": {},
   "outputs": [],
   "source": [
    "df_concat_detail_result.to_excel('./sanction_list_detail_result_4.xlsx', index=False)\n",
    "df_concat_detail_result_is_corp_restricted.to_excel('./sanction_list_detail_result_corp_restricted_4.xlsx', index=False)\n",
    "df_concat_detail_result_is_history.to_excel('./sanction_list_detail_result_history_4.xlsx', index=False)"
   ]
  },
  {
   "cell_type": "code",
   "execution_count": 24,
   "metadata": {},
   "outputs": [
    {
     "ename": "FileNotFoundError",
     "evalue": "[Errno 2] No such file or directory: './sanction_list_detail_result_1.xlsx'",
     "output_type": "error",
     "traceback": [
      "\u001b[1;31m---------------------------------------------------------------------------\u001b[0m",
      "\u001b[1;31mFileNotFoundError\u001b[0m                         Traceback (most recent call last)",
      "\u001b[1;32m~\\AppData\\Local\\Temp/ipykernel_15884/1357686491.py\u001b[0m in \u001b[0;36m<module>\u001b[1;34m\u001b[0m\n\u001b[0;32m      1\u001b[0m \u001b[1;31m##### 5. 상세조회 df 합치기\u001b[0m\u001b[1;33m\u001b[0m\u001b[1;33m\u001b[0m\u001b[1;33m\u001b[0m\u001b[0m\n\u001b[0;32m      2\u001b[0m \u001b[1;33m\u001b[0m\u001b[0m\n\u001b[1;32m----> 3\u001b[1;33m \u001b[0ma1\u001b[0m \u001b[1;33m=\u001b[0m \u001b[0mpd\u001b[0m\u001b[1;33m.\u001b[0m\u001b[0mread_excel\u001b[0m\u001b[1;33m(\u001b[0m\u001b[1;34m'./sanction_list_detail_result_1.xlsx'\u001b[0m\u001b[1;33m)\u001b[0m\u001b[1;33m\u001b[0m\u001b[1;33m\u001b[0m\u001b[0m\n\u001b[0m\u001b[0;32m      4\u001b[0m \u001b[0ma2\u001b[0m \u001b[1;33m=\u001b[0m \u001b[0mpd\u001b[0m\u001b[1;33m.\u001b[0m\u001b[0mread_excel\u001b[0m\u001b[1;33m(\u001b[0m\u001b[1;34m'./sanction_list_detail_result_2.xlsx'\u001b[0m\u001b[1;33m)\u001b[0m\u001b[1;33m\u001b[0m\u001b[1;33m\u001b[0m\u001b[0m\n\u001b[0;32m      5\u001b[0m \u001b[0ma3\u001b[0m \u001b[1;33m=\u001b[0m \u001b[0mpd\u001b[0m\u001b[1;33m.\u001b[0m\u001b[0mread_excel\u001b[0m\u001b[1;33m(\u001b[0m\u001b[1;34m'./sanction_list_detail_result_3.xlsx'\u001b[0m\u001b[1;33m)\u001b[0m\u001b[1;33m\u001b[0m\u001b[1;33m\u001b[0m\u001b[0m\n",
      "\u001b[1;32m~\\miniconda3\\envs\\tacademy\\lib\\site-packages\\pandas\\util\\_decorators.py\u001b[0m in \u001b[0;36mwrapper\u001b[1;34m(*args, **kwargs)\u001b[0m\n\u001b[0;32m    309\u001b[0m                     \u001b[0mstacklevel\u001b[0m\u001b[1;33m=\u001b[0m\u001b[0mstacklevel\u001b[0m\u001b[1;33m,\u001b[0m\u001b[1;33m\u001b[0m\u001b[1;33m\u001b[0m\u001b[0m\n\u001b[0;32m    310\u001b[0m                 )\n\u001b[1;32m--> 311\u001b[1;33m             \u001b[1;32mreturn\u001b[0m \u001b[0mfunc\u001b[0m\u001b[1;33m(\u001b[0m\u001b[1;33m*\u001b[0m\u001b[0margs\u001b[0m\u001b[1;33m,\u001b[0m \u001b[1;33m**\u001b[0m\u001b[0mkwargs\u001b[0m\u001b[1;33m)\u001b[0m\u001b[1;33m\u001b[0m\u001b[1;33m\u001b[0m\u001b[0m\n\u001b[0m\u001b[0;32m    312\u001b[0m \u001b[1;33m\u001b[0m\u001b[0m\n\u001b[0;32m    313\u001b[0m         \u001b[1;32mreturn\u001b[0m \u001b[0mwrapper\u001b[0m\u001b[1;33m\u001b[0m\u001b[1;33m\u001b[0m\u001b[0m\n",
      "\u001b[1;32m~\\miniconda3\\envs\\tacademy\\lib\\site-packages\\pandas\\io\\excel\\_base.py\u001b[0m in \u001b[0;36mread_excel\u001b[1;34m(io, sheet_name, header, names, index_col, usecols, squeeze, dtype, engine, converters, true_values, false_values, skiprows, nrows, na_values, keep_default_na, na_filter, verbose, parse_dates, date_parser, thousands, comment, skipfooter, convert_float, mangle_dupe_cols, storage_options)\u001b[0m\n\u001b[0;32m    362\u001b[0m     \u001b[1;32mif\u001b[0m \u001b[1;32mnot\u001b[0m \u001b[0misinstance\u001b[0m\u001b[1;33m(\u001b[0m\u001b[0mio\u001b[0m\u001b[1;33m,\u001b[0m \u001b[0mExcelFile\u001b[0m\u001b[1;33m)\u001b[0m\u001b[1;33m:\u001b[0m\u001b[1;33m\u001b[0m\u001b[1;33m\u001b[0m\u001b[0m\n\u001b[0;32m    363\u001b[0m         \u001b[0mshould_close\u001b[0m \u001b[1;33m=\u001b[0m \u001b[1;32mTrue\u001b[0m\u001b[1;33m\u001b[0m\u001b[1;33m\u001b[0m\u001b[0m\n\u001b[1;32m--> 364\u001b[1;33m         \u001b[0mio\u001b[0m \u001b[1;33m=\u001b[0m \u001b[0mExcelFile\u001b[0m\u001b[1;33m(\u001b[0m\u001b[0mio\u001b[0m\u001b[1;33m,\u001b[0m \u001b[0mstorage_options\u001b[0m\u001b[1;33m=\u001b[0m\u001b[0mstorage_options\u001b[0m\u001b[1;33m,\u001b[0m \u001b[0mengine\u001b[0m\u001b[1;33m=\u001b[0m\u001b[0mengine\u001b[0m\u001b[1;33m)\u001b[0m\u001b[1;33m\u001b[0m\u001b[1;33m\u001b[0m\u001b[0m\n\u001b[0m\u001b[0;32m    365\u001b[0m     \u001b[1;32melif\u001b[0m \u001b[0mengine\u001b[0m \u001b[1;32mand\u001b[0m \u001b[0mengine\u001b[0m \u001b[1;33m!=\u001b[0m \u001b[0mio\u001b[0m\u001b[1;33m.\u001b[0m\u001b[0mengine\u001b[0m\u001b[1;33m:\u001b[0m\u001b[1;33m\u001b[0m\u001b[1;33m\u001b[0m\u001b[0m\n\u001b[0;32m    366\u001b[0m         raise ValueError(\n",
      "\u001b[1;32m~\\miniconda3\\envs\\tacademy\\lib\\site-packages\\pandas\\io\\excel\\_base.py\u001b[0m in \u001b[0;36m__init__\u001b[1;34m(self, path_or_buffer, engine, storage_options)\u001b[0m\n\u001b[0;32m   1189\u001b[0m                 \u001b[0mext\u001b[0m \u001b[1;33m=\u001b[0m \u001b[1;34m\"xls\"\u001b[0m\u001b[1;33m\u001b[0m\u001b[1;33m\u001b[0m\u001b[0m\n\u001b[0;32m   1190\u001b[0m             \u001b[1;32melse\u001b[0m\u001b[1;33m:\u001b[0m\u001b[1;33m\u001b[0m\u001b[1;33m\u001b[0m\u001b[0m\n\u001b[1;32m-> 1191\u001b[1;33m                 ext = inspect_excel_format(\n\u001b[0m\u001b[0;32m   1192\u001b[0m                     \u001b[0mcontent_or_path\u001b[0m\u001b[1;33m=\u001b[0m\u001b[0mpath_or_buffer\u001b[0m\u001b[1;33m,\u001b[0m \u001b[0mstorage_options\u001b[0m\u001b[1;33m=\u001b[0m\u001b[0mstorage_options\u001b[0m\u001b[1;33m\u001b[0m\u001b[1;33m\u001b[0m\u001b[0m\n\u001b[0;32m   1193\u001b[0m                 )\n",
      "\u001b[1;32m~\\miniconda3\\envs\\tacademy\\lib\\site-packages\\pandas\\io\\excel\\_base.py\u001b[0m in \u001b[0;36minspect_excel_format\u001b[1;34m(content_or_path, storage_options)\u001b[0m\n\u001b[0;32m   1068\u001b[0m         \u001b[0mcontent_or_path\u001b[0m \u001b[1;33m=\u001b[0m \u001b[0mBytesIO\u001b[0m\u001b[1;33m(\u001b[0m\u001b[0mcontent_or_path\u001b[0m\u001b[1;33m)\u001b[0m\u001b[1;33m\u001b[0m\u001b[1;33m\u001b[0m\u001b[0m\n\u001b[0;32m   1069\u001b[0m \u001b[1;33m\u001b[0m\u001b[0m\n\u001b[1;32m-> 1070\u001b[1;33m     with get_handle(\n\u001b[0m\u001b[0;32m   1071\u001b[0m         \u001b[0mcontent_or_path\u001b[0m\u001b[1;33m,\u001b[0m \u001b[1;34m\"rb\"\u001b[0m\u001b[1;33m,\u001b[0m \u001b[0mstorage_options\u001b[0m\u001b[1;33m=\u001b[0m\u001b[0mstorage_options\u001b[0m\u001b[1;33m,\u001b[0m \u001b[0mis_text\u001b[0m\u001b[1;33m=\u001b[0m\u001b[1;32mFalse\u001b[0m\u001b[1;33m\u001b[0m\u001b[1;33m\u001b[0m\u001b[0m\n\u001b[0;32m   1072\u001b[0m     ) as handle:\n",
      "\u001b[1;32m~\\miniconda3\\envs\\tacademy\\lib\\site-packages\\pandas\\io\\common.py\u001b[0m in \u001b[0;36mget_handle\u001b[1;34m(path_or_buf, mode, encoding, compression, memory_map, is_text, errors, storage_options)\u001b[0m\n\u001b[0;32m    709\u001b[0m         \u001b[1;32melse\u001b[0m\u001b[1;33m:\u001b[0m\u001b[1;33m\u001b[0m\u001b[1;33m\u001b[0m\u001b[0m\n\u001b[0;32m    710\u001b[0m             \u001b[1;31m# Binary mode\u001b[0m\u001b[1;33m\u001b[0m\u001b[1;33m\u001b[0m\u001b[1;33m\u001b[0m\u001b[0m\n\u001b[1;32m--> 711\u001b[1;33m             \u001b[0mhandle\u001b[0m \u001b[1;33m=\u001b[0m \u001b[0mopen\u001b[0m\u001b[1;33m(\u001b[0m\u001b[0mhandle\u001b[0m\u001b[1;33m,\u001b[0m \u001b[0mioargs\u001b[0m\u001b[1;33m.\u001b[0m\u001b[0mmode\u001b[0m\u001b[1;33m)\u001b[0m\u001b[1;33m\u001b[0m\u001b[1;33m\u001b[0m\u001b[0m\n\u001b[0m\u001b[0;32m    712\u001b[0m         \u001b[0mhandles\u001b[0m\u001b[1;33m.\u001b[0m\u001b[0mappend\u001b[0m\u001b[1;33m(\u001b[0m\u001b[0mhandle\u001b[0m\u001b[1;33m)\u001b[0m\u001b[1;33m\u001b[0m\u001b[1;33m\u001b[0m\u001b[0m\n\u001b[0;32m    713\u001b[0m \u001b[1;33m\u001b[0m\u001b[0m\n",
      "\u001b[1;31mFileNotFoundError\u001b[0m: [Errno 2] No such file or directory: './sanction_list_detail_result_1.xlsx'"
     ]
    }
   ],
   "source": [
    "##### 5. 상세조회 df 합치기\n",
    "\n",
    "a1 = pd.read_excel('./sanction_list_detail_result_1.xlsx')\n",
    "a2 = pd.read_excel('./sanction_list_detail_result_2.xlsx')\n",
    "a3 = pd.read_excel('./sanction_list_detail_result_3.xlsx')\n",
    "a4 = pd.read_excel('./sanction_list_detail_result_4.xlsx')\n",
    "b1 = pd.read_excel('./sanction_list_detail_result_corp_restricted_1.xlsx')\n",
    "b2 = pd.read_excel('./sanction_list_detail_result_corp_restricted_2.xlsx')\n",
    "b3 = pd.read_excel('./sanction_list_detail_result_corp_restricted_3.xlsx')\n",
    "b4 = pd.read_excel('./sanction_list_detail_result_corp_restricted_4.xlsx')\n",
    "c1 = pd.read_excel('./sanction_list_detail_result_history_1.xlsx')\n",
    "c2 = pd.read_excel('./sanction_list_detail_result_history_2.xlsx')\n",
    "c3 = pd.read_excel('./sanction_list_detail_result_history_3.xlsx')\n",
    "c4 = pd.read_excel('./sanction_list_detail_result_history_4.xlsx')\n"
   ]
  },
  {
   "cell_type": "code",
   "execution_count": null,
   "metadata": {},
   "outputs": [],
   "source": [
    "pd.concat([a1,a2,a3,a4]).drop_duplicates().to_excel('./sanction_list_detail_result.xlsx', index=False)\n",
    "pd.concat([b1,b2,b3,b4])[pd.concat([b1,b2,b3,b4])['사업자등록번호'].notnull()].drop_duplicates().to_excel('./sanction_list_detail_result_corp_restricted.xlsx', index=False)\n",
    "pd.concat([c1,c2,c3,c4]).drop_duplicates().to_excel('./sanction_list_detail_result_history.xlsx', index=False)"
   ]
  },
  {
   "cell_type": "code",
   "execution_count": null,
   "metadata": {},
   "outputs": [],
   "source": []
  }
 ],
 "metadata": {
  "interpreter": {
   "hash": "b554e4fa6ee0185b82eefdc76b0f4e3cbbabc121454fbf64129947ac067f2a5d"
  },
  "kernelspec": {
   "display_name": "Python 3.9.7 ('dev')",
   "language": "python",
   "name": "python3"
  },
  "language_info": {
   "codemirror_mode": {
    "name": "ipython",
    "version": 3
   },
   "file_extension": ".py",
   "mimetype": "text/x-python",
   "name": "python",
   "nbconvert_exporter": "python",
   "pygments_lexer": "ipython3",
   "version": "3.8.12"
  },
  "orig_nbformat": 4
 },
 "nbformat": 4,
 "nbformat_minor": 2
}
